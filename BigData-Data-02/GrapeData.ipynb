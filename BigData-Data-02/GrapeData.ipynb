{
  "cells": [
    {
      "cell_type": "code",
      "execution_count": 1,
      "metadata": {
        "colab": {
          "base_uri": "https://localhost:8080/",
          "height": 424
        },
        "id": "monpCQa6fYa1",
        "outputId": "cca56bfd-c47e-440a-eb62-66298be11bfd"
      },
      "outputs": [
        {
          "data": {
            "text/html": [
              "<div>\n",
              "<style scoped>\n",
              "    .dataframe tbody tr th:only-of-type {\n",
              "        vertical-align: middle;\n",
              "    }\n",
              "\n",
              "    .dataframe tbody tr th {\n",
              "        vertical-align: top;\n",
              "    }\n",
              "\n",
              "    .dataframe thead th {\n",
              "        text-align: right;\n",
              "    }\n",
              "</style>\n",
              "<table border=\"1\" class=\"dataframe\">\n",
              "  <thead>\n",
              "    <tr style=\"text-align: right;\">\n",
              "      <th></th>\n",
              "      <th>continent</th>\n",
              "      <th>brand</th>\n",
              "      <th>size</th>\n",
              "      <th>period</th>\n",
              "      <th>price</th>\n",
              "    </tr>\n",
              "  </thead>\n",
              "  <tbody>\n",
              "    <tr>\n",
              "      <th>0</th>\n",
              "      <td>2</td>\n",
              "      <td>2</td>\n",
              "      <td>10.7</td>\n",
              "      <td>47.65</td>\n",
              "      <td>144</td>\n",
              "    </tr>\n",
              "    <tr>\n",
              "      <th>1</th>\n",
              "      <td>2</td>\n",
              "      <td>3</td>\n",
              "      <td>14.0</td>\n",
              "      <td>63.13</td>\n",
              "      <td>215</td>\n",
              "    </tr>\n",
              "    <tr>\n",
              "      <th>2</th>\n",
              "      <td>2</td>\n",
              "      <td>2</td>\n",
              "      <td>9.0</td>\n",
              "      <td>58.76</td>\n",
              "      <td>105</td>\n",
              "    </tr>\n",
              "    <tr>\n",
              "      <th>3</th>\n",
              "      <td>1</td>\n",
              "      <td>1</td>\n",
              "      <td>8.0</td>\n",
              "      <td>34.88</td>\n",
              "      <td>69</td>\n",
              "    </tr>\n",
              "    <tr>\n",
              "      <th>4</th>\n",
              "      <td>2</td>\n",
              "      <td>2</td>\n",
              "      <td>10.0</td>\n",
              "      <td>55.53</td>\n",
              "      <td>134</td>\n",
              "    </tr>\n",
              "    <tr>\n",
              "      <th>...</th>\n",
              "      <td>...</td>\n",
              "      <td>...</td>\n",
              "      <td>...</td>\n",
              "      <td>...</td>\n",
              "      <td>...</td>\n",
              "    </tr>\n",
              "    <tr>\n",
              "      <th>58</th>\n",
              "      <td>1</td>\n",
              "      <td>1</td>\n",
              "      <td>5.0</td>\n",
              "      <td>16.66</td>\n",
              "      <td>21.5</td>\n",
              "    </tr>\n",
              "    <tr>\n",
              "      <th>59</th>\n",
              "      <td>2</td>\n",
              "      <td>1</td>\n",
              "      <td>21.0</td>\n",
              "      <td>43.00</td>\n",
              "      <td></td>\n",
              "    </tr>\n",
              "    <tr>\n",
              "      <th>60</th>\n",
              "      <td>2</td>\n",
              "      <td>2</td>\n",
              "      <td>5.0</td>\n",
              "      <td>12.00</td>\n",
              "      <td></td>\n",
              "    </tr>\n",
              "    <tr>\n",
              "      <th>61</th>\n",
              "      <td>2</td>\n",
              "      <td>3</td>\n",
              "      <td>13.0</td>\n",
              "      <td>20.00</td>\n",
              "      <td></td>\n",
              "    </tr>\n",
              "    <tr>\n",
              "      <th>62</th>\n",
              "      <td>2</td>\n",
              "      <td>3</td>\n",
              "      <td>31.0</td>\n",
              "      <td>19.00</td>\n",
              "      <td></td>\n",
              "    </tr>\n",
              "  </tbody>\n",
              "</table>\n",
              "<p>63 rows × 5 columns</p>\n",
              "</div>"
            ],
            "text/plain": [
              "    continent  brand  size  period price\n",
              "0           2      2  10.7   47.65   144\n",
              "1           2      3  14.0   63.13   215\n",
              "2           2      2   9.0   58.76   105\n",
              "3           1      1   8.0   34.88    69\n",
              "4           2      2  10.0   55.53   134\n",
              "..        ...    ...   ...     ...   ...\n",
              "58          1      1   5.0   16.66  21.5\n",
              "59          2      1  21.0   43.00      \n",
              "60          2      2   5.0   12.00      \n",
              "61          2      3  13.0   20.00      \n",
              "62          2      3  31.0   19.00      \n",
              "\n",
              "[63 rows x 5 columns]"
            ]
          },
          "execution_count": 1,
          "metadata": {},
          "output_type": "execute_result"
        }
      ],
      "source": [
        "import pandas as pd\n",
        "df = pd.read_csv('./Data/EX_GrapeData.csv')\n",
        "df"
      ]
    },
    {
      "cell_type": "code",
      "execution_count": 2,
      "metadata": {
        "colab": {
          "base_uri": "https://localhost:8080/"
        },
        "id": "2nyfvMojgUg-",
        "outputId": "30dc0031-1275-498a-9446-83739ae3d0a4"
      },
      "outputs": [
        {
          "data": {
            "text/plain": [
              "0      144\n",
              "1      215\n",
              "2      105\n",
              "3       69\n",
              "4      134\n",
              "      ... \n",
              "58    21.5\n",
              "59        \n",
              "60        \n",
              "61        \n",
              "62        \n",
              "Name: price, Length: 63, dtype: object"
            ]
          },
          "execution_count": 2,
          "metadata": {},
          "output_type": "execute_result"
        }
      ],
      "source": [
        "df['price']"
      ]
    },
    {
      "cell_type": "code",
      "execution_count": 3,
      "metadata": {
        "colab": {
          "base_uri": "https://localhost:8080/",
          "height": 424
        },
        "id": "7T6I_X-vvBJW",
        "outputId": "afa2c00e-c8ad-45e3-a316-7c36bdcdd526"
      },
      "outputs": [
        {
          "data": {
            "text/html": [
              "<div>\n",
              "<style scoped>\n",
              "    .dataframe tbody tr th:only-of-type {\n",
              "        vertical-align: middle;\n",
              "    }\n",
              "\n",
              "    .dataframe tbody tr th {\n",
              "        vertical-align: top;\n",
              "    }\n",
              "\n",
              "    .dataframe thead th {\n",
              "        text-align: right;\n",
              "    }\n",
              "</style>\n",
              "<table border=\"1\" class=\"dataframe\">\n",
              "  <thead>\n",
              "    <tr style=\"text-align: right;\">\n",
              "      <th></th>\n",
              "      <th>price</th>\n",
              "    </tr>\n",
              "  </thead>\n",
              "  <tbody>\n",
              "    <tr>\n",
              "      <th>0</th>\n",
              "      <td>144</td>\n",
              "    </tr>\n",
              "    <tr>\n",
              "      <th>1</th>\n",
              "      <td>215</td>\n",
              "    </tr>\n",
              "    <tr>\n",
              "      <th>2</th>\n",
              "      <td>105</td>\n",
              "    </tr>\n",
              "    <tr>\n",
              "      <th>3</th>\n",
              "      <td>69</td>\n",
              "    </tr>\n",
              "    <tr>\n",
              "      <th>4</th>\n",
              "      <td>134</td>\n",
              "    </tr>\n",
              "    <tr>\n",
              "      <th>...</th>\n",
              "      <td>...</td>\n",
              "    </tr>\n",
              "    <tr>\n",
              "      <th>58</th>\n",
              "      <td>21.5</td>\n",
              "    </tr>\n",
              "    <tr>\n",
              "      <th>59</th>\n",
              "      <td></td>\n",
              "    </tr>\n",
              "    <tr>\n",
              "      <th>60</th>\n",
              "      <td></td>\n",
              "    </tr>\n",
              "    <tr>\n",
              "      <th>61</th>\n",
              "      <td></td>\n",
              "    </tr>\n",
              "    <tr>\n",
              "      <th>62</th>\n",
              "      <td></td>\n",
              "    </tr>\n",
              "  </tbody>\n",
              "</table>\n",
              "<p>63 rows × 1 columns</p>\n",
              "</div>"
            ],
            "text/plain": [
              "   price\n",
              "0    144\n",
              "1    215\n",
              "2    105\n",
              "3     69\n",
              "4    134\n",
              "..   ...\n",
              "58  21.5\n",
              "59      \n",
              "60      \n",
              "61      \n",
              "62      \n",
              "\n",
              "[63 rows x 1 columns]"
            ]
          },
          "execution_count": 3,
          "metadata": {},
          "output_type": "execute_result"
        }
      ],
      "source": [
        "df[['price']]"
      ]
    },
    {
      "cell_type": "code",
      "execution_count": 4,
      "metadata": {
        "colab": {
          "base_uri": "https://localhost:8080/",
          "height": 424
        },
        "id": "33bx8D8evHNu",
        "outputId": "173cc79d-191b-4480-9c5f-692312dd4e3e"
      },
      "outputs": [
        {
          "data": {
            "text/html": [
              "<div>\n",
              "<style scoped>\n",
              "    .dataframe tbody tr th:only-of-type {\n",
              "        vertical-align: middle;\n",
              "    }\n",
              "\n",
              "    .dataframe tbody tr th {\n",
              "        vertical-align: top;\n",
              "    }\n",
              "\n",
              "    .dataframe thead th {\n",
              "        text-align: right;\n",
              "    }\n",
              "</style>\n",
              "<table border=\"1\" class=\"dataframe\">\n",
              "  <thead>\n",
              "    <tr style=\"text-align: right;\">\n",
              "      <th></th>\n",
              "      <th>continent</th>\n",
              "      <th>size</th>\n",
              "      <th>price</th>\n",
              "    </tr>\n",
              "  </thead>\n",
              "  <tbody>\n",
              "    <tr>\n",
              "      <th>0</th>\n",
              "      <td>2</td>\n",
              "      <td>10.7</td>\n",
              "      <td>144</td>\n",
              "    </tr>\n",
              "    <tr>\n",
              "      <th>1</th>\n",
              "      <td>2</td>\n",
              "      <td>14.0</td>\n",
              "      <td>215</td>\n",
              "    </tr>\n",
              "    <tr>\n",
              "      <th>2</th>\n",
              "      <td>2</td>\n",
              "      <td>9.0</td>\n",
              "      <td>105</td>\n",
              "    </tr>\n",
              "    <tr>\n",
              "      <th>3</th>\n",
              "      <td>1</td>\n",
              "      <td>8.0</td>\n",
              "      <td>69</td>\n",
              "    </tr>\n",
              "    <tr>\n",
              "      <th>4</th>\n",
              "      <td>2</td>\n",
              "      <td>10.0</td>\n",
              "      <td>134</td>\n",
              "    </tr>\n",
              "    <tr>\n",
              "      <th>...</th>\n",
              "      <td>...</td>\n",
              "      <td>...</td>\n",
              "      <td>...</td>\n",
              "    </tr>\n",
              "    <tr>\n",
              "      <th>58</th>\n",
              "      <td>1</td>\n",
              "      <td>5.0</td>\n",
              "      <td>21.5</td>\n",
              "    </tr>\n",
              "    <tr>\n",
              "      <th>59</th>\n",
              "      <td>2</td>\n",
              "      <td>21.0</td>\n",
              "      <td></td>\n",
              "    </tr>\n",
              "    <tr>\n",
              "      <th>60</th>\n",
              "      <td>2</td>\n",
              "      <td>5.0</td>\n",
              "      <td></td>\n",
              "    </tr>\n",
              "    <tr>\n",
              "      <th>61</th>\n",
              "      <td>2</td>\n",
              "      <td>13.0</td>\n",
              "      <td></td>\n",
              "    </tr>\n",
              "    <tr>\n",
              "      <th>62</th>\n",
              "      <td>2</td>\n",
              "      <td>31.0</td>\n",
              "      <td></td>\n",
              "    </tr>\n",
              "  </tbody>\n",
              "</table>\n",
              "<p>63 rows × 3 columns</p>\n",
              "</div>"
            ],
            "text/plain": [
              "    continent  size price\n",
              "0           2  10.7   144\n",
              "1           2  14.0   215\n",
              "2           2   9.0   105\n",
              "3           1   8.0    69\n",
              "4           2  10.0   134\n",
              "..        ...   ...   ...\n",
              "58          1   5.0  21.5\n",
              "59          2  21.0      \n",
              "60          2   5.0      \n",
              "61          2  13.0      \n",
              "62          2  31.0      \n",
              "\n",
              "[63 rows x 3 columns]"
            ]
          },
          "execution_count": 4,
          "metadata": {},
          "output_type": "execute_result"
        }
      ],
      "source": [
        "df[['continent','size','price']]"
      ]
    },
    {
      "cell_type": "code",
      "execution_count": 5,
      "metadata": {
        "colab": {
          "base_uri": "https://localhost:8080/",
          "height": 424
        },
        "id": "C15TJkTWvvXd",
        "outputId": "11d30940-2700-4a7a-bc10-aca183bc547e"
      },
      "outputs": [
        {
          "data": {
            "text/html": [
              "<div>\n",
              "<style scoped>\n",
              "    .dataframe tbody tr th:only-of-type {\n",
              "        vertical-align: middle;\n",
              "    }\n",
              "\n",
              "    .dataframe tbody tr th {\n",
              "        vertical-align: top;\n",
              "    }\n",
              "\n",
              "    .dataframe thead th {\n",
              "        text-align: right;\n",
              "    }\n",
              "</style>\n",
              "<table border=\"1\" class=\"dataframe\">\n",
              "  <thead>\n",
              "    <tr style=\"text-align: right;\">\n",
              "      <th></th>\n",
              "      <th>size</th>\n",
              "      <th>period</th>\n",
              "      <th>price</th>\n",
              "    </tr>\n",
              "  </thead>\n",
              "  <tbody>\n",
              "    <tr>\n",
              "      <th>0</th>\n",
              "      <td>10.7</td>\n",
              "      <td>47.65</td>\n",
              "      <td>144</td>\n",
              "    </tr>\n",
              "    <tr>\n",
              "      <th>1</th>\n",
              "      <td>14.0</td>\n",
              "      <td>63.13</td>\n",
              "      <td>215</td>\n",
              "    </tr>\n",
              "    <tr>\n",
              "      <th>2</th>\n",
              "      <td>9.0</td>\n",
              "      <td>58.76</td>\n",
              "      <td>105</td>\n",
              "    </tr>\n",
              "    <tr>\n",
              "      <th>3</th>\n",
              "      <td>8.0</td>\n",
              "      <td>34.88</td>\n",
              "      <td>69</td>\n",
              "    </tr>\n",
              "    <tr>\n",
              "      <th>4</th>\n",
              "      <td>10.0</td>\n",
              "      <td>55.53</td>\n",
              "      <td>134</td>\n",
              "    </tr>\n",
              "    <tr>\n",
              "      <th>...</th>\n",
              "      <td>...</td>\n",
              "      <td>...</td>\n",
              "      <td>...</td>\n",
              "    </tr>\n",
              "    <tr>\n",
              "      <th>58</th>\n",
              "      <td>5.0</td>\n",
              "      <td>16.66</td>\n",
              "      <td>21.5</td>\n",
              "    </tr>\n",
              "    <tr>\n",
              "      <th>59</th>\n",
              "      <td>21.0</td>\n",
              "      <td>43.00</td>\n",
              "      <td></td>\n",
              "    </tr>\n",
              "    <tr>\n",
              "      <th>60</th>\n",
              "      <td>5.0</td>\n",
              "      <td>12.00</td>\n",
              "      <td></td>\n",
              "    </tr>\n",
              "    <tr>\n",
              "      <th>61</th>\n",
              "      <td>13.0</td>\n",
              "      <td>20.00</td>\n",
              "      <td></td>\n",
              "    </tr>\n",
              "    <tr>\n",
              "      <th>62</th>\n",
              "      <td>31.0</td>\n",
              "      <td>19.00</td>\n",
              "      <td></td>\n",
              "    </tr>\n",
              "  </tbody>\n",
              "</table>\n",
              "<p>63 rows × 3 columns</p>\n",
              "</div>"
            ],
            "text/plain": [
              "    size  period price\n",
              "0   10.7   47.65   144\n",
              "1   14.0   63.13   215\n",
              "2    9.0   58.76   105\n",
              "3    8.0   34.88    69\n",
              "4   10.0   55.53   134\n",
              "..   ...     ...   ...\n",
              "58   5.0   16.66  21.5\n",
              "59  21.0   43.00      \n",
              "60   5.0   12.00      \n",
              "61  13.0   20.00      \n",
              "62  31.0   19.00      \n",
              "\n",
              "[63 rows x 3 columns]"
            ]
          },
          "execution_count": 5,
          "metadata": {},
          "output_type": "execute_result"
        }
      ],
      "source": [
        "df[df.columns[2:]]"
      ]
    },
    {
      "cell_type": "code",
      "execution_count": 6,
      "metadata": {
        "colab": {
          "base_uri": "https://localhost:8080/",
          "height": 424
        },
        "id": "Wpl5hUPAwJul",
        "outputId": "dd4e9a18-2d6b-47e5-8d52-2ea3152ce39e"
      },
      "outputs": [
        {
          "data": {
            "text/html": [
              "<div>\n",
              "<style scoped>\n",
              "    .dataframe tbody tr th:only-of-type {\n",
              "        vertical-align: middle;\n",
              "    }\n",
              "\n",
              "    .dataframe tbody tr th {\n",
              "        vertical-align: top;\n",
              "    }\n",
              "\n",
              "    .dataframe thead th {\n",
              "        text-align: right;\n",
              "    }\n",
              "</style>\n",
              "<table border=\"1\" class=\"dataframe\">\n",
              "  <thead>\n",
              "    <tr style=\"text-align: right;\">\n",
              "      <th></th>\n",
              "      <th>size</th>\n",
              "      <th>period</th>\n",
              "      <th>price</th>\n",
              "    </tr>\n",
              "  </thead>\n",
              "  <tbody>\n",
              "    <tr>\n",
              "      <th>0</th>\n",
              "      <td>10.7</td>\n",
              "      <td>47.65</td>\n",
              "      <td>144</td>\n",
              "    </tr>\n",
              "    <tr>\n",
              "      <th>1</th>\n",
              "      <td>14.0</td>\n",
              "      <td>63.13</td>\n",
              "      <td>215</td>\n",
              "    </tr>\n",
              "    <tr>\n",
              "      <th>2</th>\n",
              "      <td>9.0</td>\n",
              "      <td>58.76</td>\n",
              "      <td>105</td>\n",
              "    </tr>\n",
              "    <tr>\n",
              "      <th>3</th>\n",
              "      <td>8.0</td>\n",
              "      <td>34.88</td>\n",
              "      <td>69</td>\n",
              "    </tr>\n",
              "    <tr>\n",
              "      <th>4</th>\n",
              "      <td>10.0</td>\n",
              "      <td>55.53</td>\n",
              "      <td>134</td>\n",
              "    </tr>\n",
              "    <tr>\n",
              "      <th>...</th>\n",
              "      <td>...</td>\n",
              "      <td>...</td>\n",
              "      <td>...</td>\n",
              "    </tr>\n",
              "    <tr>\n",
              "      <th>58</th>\n",
              "      <td>5.0</td>\n",
              "      <td>16.66</td>\n",
              "      <td>21.5</td>\n",
              "    </tr>\n",
              "    <tr>\n",
              "      <th>59</th>\n",
              "      <td>21.0</td>\n",
              "      <td>43.00</td>\n",
              "      <td></td>\n",
              "    </tr>\n",
              "    <tr>\n",
              "      <th>60</th>\n",
              "      <td>5.0</td>\n",
              "      <td>12.00</td>\n",
              "      <td></td>\n",
              "    </tr>\n",
              "    <tr>\n",
              "      <th>61</th>\n",
              "      <td>13.0</td>\n",
              "      <td>20.00</td>\n",
              "      <td></td>\n",
              "    </tr>\n",
              "    <tr>\n",
              "      <th>62</th>\n",
              "      <td>31.0</td>\n",
              "      <td>19.00</td>\n",
              "      <td></td>\n",
              "    </tr>\n",
              "  </tbody>\n",
              "</table>\n",
              "<p>63 rows × 3 columns</p>\n",
              "</div>"
            ],
            "text/plain": [
              "    size  period price\n",
              "0   10.7   47.65   144\n",
              "1   14.0   63.13   215\n",
              "2    9.0   58.76   105\n",
              "3    8.0   34.88    69\n",
              "4   10.0   55.53   134\n",
              "..   ...     ...   ...\n",
              "58   5.0   16.66  21.5\n",
              "59  21.0   43.00      \n",
              "60   5.0   12.00      \n",
              "61  13.0   20.00      \n",
              "62  31.0   19.00      \n",
              "\n",
              "[63 rows x 3 columns]"
            ]
          },
          "execution_count": 6,
          "metadata": {},
          "output_type": "execute_result"
        }
      ],
      "source": [
        "df.loc[:,'size':'price']"
      ]
    },
    {
      "cell_type": "code",
      "execution_count": 7,
      "metadata": {
        "colab": {
          "base_uri": "https://localhost:8080/",
          "height": 112
        },
        "id": "Eg5wyVuowe7d",
        "outputId": "0a713d93-0e80-4b14-ac41-fcb52525a7d9"
      },
      "outputs": [
        {
          "data": {
            "text/html": [
              "<div>\n",
              "<style scoped>\n",
              "    .dataframe tbody tr th:only-of-type {\n",
              "        vertical-align: middle;\n",
              "    }\n",
              "\n",
              "    .dataframe tbody tr th {\n",
              "        vertical-align: top;\n",
              "    }\n",
              "\n",
              "    .dataframe thead th {\n",
              "        text-align: right;\n",
              "    }\n",
              "</style>\n",
              "<table border=\"1\" class=\"dataframe\">\n",
              "  <thead>\n",
              "    <tr style=\"text-align: right;\">\n",
              "      <th></th>\n",
              "      <th>continent</th>\n",
              "      <th>brand</th>\n",
              "      <th>size</th>\n",
              "      <th>period</th>\n",
              "      <th>price</th>\n",
              "    </tr>\n",
              "  </thead>\n",
              "  <tbody>\n",
              "    <tr>\n",
              "      <th>0</th>\n",
              "      <td>2</td>\n",
              "      <td>2</td>\n",
              "      <td>10.7</td>\n",
              "      <td>47.65</td>\n",
              "      <td>144</td>\n",
              "    </tr>\n",
              "    <tr>\n",
              "      <th>1</th>\n",
              "      <td>2</td>\n",
              "      <td>3</td>\n",
              "      <td>14.0</td>\n",
              "      <td>63.13</td>\n",
              "      <td>215</td>\n",
              "    </tr>\n",
              "  </tbody>\n",
              "</table>\n",
              "</div>"
            ],
            "text/plain": [
              "   continent  brand  size  period price\n",
              "0          2      2  10.7   47.65   144\n",
              "1          2      3  14.0   63.13   215"
            ]
          },
          "execution_count": 7,
          "metadata": {},
          "output_type": "execute_result"
        }
      ],
      "source": [
        "df.iloc[0:2,:]"
      ]
    },
    {
      "cell_type": "code",
      "execution_count": 8,
      "metadata": {
        "colab": {
          "base_uri": "https://localhost:8080/"
        },
        "id": "ZYKjlDgAwtg8",
        "outputId": "87ad6662-c740-4c73-d5f3-d6a3c9e0b7e7"
      },
      "outputs": [
        {
          "data": {
            "text/plain": [
              "Index(['size', 'time', 'price'], dtype='object')"
            ]
          },
          "execution_count": 8,
          "metadata": {},
          "output_type": "execute_result"
        }
      ],
      "source": [
        "df_columns = df.copy()\n",
        "df_columns=df_columns[['size','period','price']]\n",
        "df_columns.rename(columns={'period':'time'},inplace=True)\n",
        "df_columns.columns"
      ]
    },
    {
      "cell_type": "code",
      "execution_count": 9,
      "metadata": {
        "colab": {
          "base_uri": "https://localhost:8080/",
          "height": 206
        },
        "id": "6ji6f9ICXFeY",
        "outputId": "f4fd83a9-af4f-4819-8983-43e2bd00c781"
      },
      "outputs": [
        {
          "data": {
            "text/html": [
              "<div>\n",
              "<style scoped>\n",
              "    .dataframe tbody tr th:only-of-type {\n",
              "        vertical-align: middle;\n",
              "    }\n",
              "\n",
              "    .dataframe tbody tr th {\n",
              "        vertical-align: top;\n",
              "    }\n",
              "\n",
              "    .dataframe thead th {\n",
              "        text-align: right;\n",
              "    }\n",
              "</style>\n",
              "<table border=\"1\" class=\"dataframe\">\n",
              "  <thead>\n",
              "    <tr style=\"text-align: right;\">\n",
              "      <th></th>\n",
              "      <th>continent</th>\n",
              "      <th>brand</th>\n",
              "      <th>size</th>\n",
              "      <th>period</th>\n",
              "      <th>price</th>\n",
              "    </tr>\n",
              "  </thead>\n",
              "  <tbody>\n",
              "    <tr>\n",
              "      <th>3</th>\n",
              "      <td>1</td>\n",
              "      <td>1</td>\n",
              "      <td>8.0</td>\n",
              "      <td>34.88</td>\n",
              "      <td>69</td>\n",
              "    </tr>\n",
              "    <tr>\n",
              "      <th>11</th>\n",
              "      <td>1</td>\n",
              "      <td>1</td>\n",
              "      <td>10.4</td>\n",
              "      <td>17.67</td>\n",
              "      <td>54</td>\n",
              "    </tr>\n",
              "    <tr>\n",
              "      <th>12</th>\n",
              "      <td>1</td>\n",
              "      <td>1</td>\n",
              "      <td>7.4</td>\n",
              "      <td>16.41</td>\n",
              "      <td>39</td>\n",
              "    </tr>\n",
              "    <tr>\n",
              "      <th>13</th>\n",
              "      <td>1</td>\n",
              "      <td>1</td>\n",
              "      <td>5.4</td>\n",
              "      <td>12.02</td>\n",
              "      <td>29.5</td>\n",
              "    </tr>\n",
              "    <tr>\n",
              "      <th>16</th>\n",
              "      <td>1</td>\n",
              "      <td>1</td>\n",
              "      <td>6.0</td>\n",
              "      <td>23.21</td>\n",
              "      <td>42</td>\n",
              "    </tr>\n",
              "  </tbody>\n",
              "</table>\n",
              "</div>"
            ],
            "text/plain": [
              "    continent  brand  size  period price\n",
              "3           1      1   8.0   34.88    69\n",
              "11          1      1  10.4   17.67    54\n",
              "12          1      1   7.4   16.41    39\n",
              "13          1      1   5.4   12.02  29.5\n",
              "16          1      1   6.0   23.21    42"
            ]
          },
          "execution_count": 9,
          "metadata": {},
          "output_type": "execute_result"
        }
      ],
      "source": [
        "df_continent_brand = df[(df['continent']==1)&(df['brand']==1)]\n",
        "df_continent_brand.head()"
      ]
    },
    {
      "cell_type": "code",
      "execution_count": 10,
      "metadata": {
        "colab": {
          "base_uri": "https://localhost:8080/",
          "height": 206
        },
        "id": "7kVvbXCvYXtH",
        "outputId": "717f5019-5552-4ec7-dbf8-6d2678f3442c"
      },
      "outputs": [
        {
          "data": {
            "text/html": [
              "<div>\n",
              "<style scoped>\n",
              "    .dataframe tbody tr th:only-of-type {\n",
              "        vertical-align: middle;\n",
              "    }\n",
              "\n",
              "    .dataframe tbody tr th {\n",
              "        vertical-align: top;\n",
              "    }\n",
              "\n",
              "    .dataframe thead th {\n",
              "        text-align: right;\n",
              "    }\n",
              "</style>\n",
              "<table border=\"1\" class=\"dataframe\">\n",
              "  <thead>\n",
              "    <tr style=\"text-align: right;\">\n",
              "      <th></th>\n",
              "      <th>continent</th>\n",
              "      <th>brand</th>\n",
              "      <th>size</th>\n",
              "      <th>period</th>\n",
              "      <th>price</th>\n",
              "    </tr>\n",
              "  </thead>\n",
              "  <tbody>\n",
              "    <tr>\n",
              "      <th>0</th>\n",
              "      <td>2</td>\n",
              "      <td>2</td>\n",
              "      <td>10.7</td>\n",
              "      <td>47.65</td>\n",
              "      <td>144</td>\n",
              "    </tr>\n",
              "    <tr>\n",
              "      <th>1</th>\n",
              "      <td>2</td>\n",
              "      <td>3</td>\n",
              "      <td>14.0</td>\n",
              "      <td>63.13</td>\n",
              "      <td>215</td>\n",
              "    </tr>\n",
              "    <tr>\n",
              "      <th>4</th>\n",
              "      <td>2</td>\n",
              "      <td>2</td>\n",
              "      <td>10.0</td>\n",
              "      <td>55.53</td>\n",
              "      <td>134</td>\n",
              "    </tr>\n",
              "    <tr>\n",
              "      <th>5</th>\n",
              "      <td>2</td>\n",
              "      <td>2</td>\n",
              "      <td>10.5</td>\n",
              "      <td>43.14</td>\n",
              "      <td>129</td>\n",
              "    </tr>\n",
              "    <tr>\n",
              "      <th>6</th>\n",
              "      <td>2</td>\n",
              "      <td>2</td>\n",
              "      <td>16.0</td>\n",
              "      <td>54.86</td>\n",
              "      <td>155</td>\n",
              "    </tr>\n",
              "  </tbody>\n",
              "</table>\n",
              "</div>"
            ],
            "text/plain": [
              "   continent  brand  size  period price\n",
              "0          2      2  10.7   47.65   144\n",
              "1          2      3  14.0   63.13   215\n",
              "4          2      2  10.0   55.53   134\n",
              "5          2      2  10.5   43.14   129\n",
              "6          2      2  16.0   54.86   155"
            ]
          },
          "execution_count": 10,
          "metadata": {},
          "output_type": "execute_result"
        }
      ],
      "source": [
        "df_size_period = df[(df['size']>=10) & (df['period']>=30)]\n",
        "df_size_period.head()"
      ]
    },
    {
      "cell_type": "code",
      "execution_count": 11,
      "metadata": {
        "colab": {
          "base_uri": "https://localhost:8080/",
          "height": 206
        },
        "id": "nKacqVBEZXN2",
        "outputId": "5014f719-20cd-4f19-9d5a-c8117c9217c6"
      },
      "outputs": [
        {
          "data": {
            "text/html": [
              "<div>\n",
              "<style scoped>\n",
              "    .dataframe tbody tr th:only-of-type {\n",
              "        vertical-align: middle;\n",
              "    }\n",
              "\n",
              "    .dataframe tbody tr th {\n",
              "        vertical-align: top;\n",
              "    }\n",
              "\n",
              "    .dataframe thead th {\n",
              "        text-align: right;\n",
              "    }\n",
              "</style>\n",
              "<table border=\"1\" class=\"dataframe\">\n",
              "  <thead>\n",
              "    <tr style=\"text-align: right;\">\n",
              "      <th></th>\n",
              "      <th>size</th>\n",
              "      <th>time</th>\n",
              "      <th>price</th>\n",
              "    </tr>\n",
              "  </thead>\n",
              "  <tbody>\n",
              "    <tr>\n",
              "      <th>0</th>\n",
              "      <td>10.7</td>\n",
              "      <td>47.65</td>\n",
              "      <td>144</td>\n",
              "    </tr>\n",
              "    <tr>\n",
              "      <th>1</th>\n",
              "      <td>14.0</td>\n",
              "      <td>63.13</td>\n",
              "      <td>215</td>\n",
              "    </tr>\n",
              "    <tr>\n",
              "      <th>2</th>\n",
              "      <td>9.0</td>\n",
              "      <td>58.76</td>\n",
              "      <td>105</td>\n",
              "    </tr>\n",
              "    <tr>\n",
              "      <th>3</th>\n",
              "      <td>8.0</td>\n",
              "      <td>34.88</td>\n",
              "      <td>69</td>\n",
              "    </tr>\n",
              "    <tr>\n",
              "      <th>4</th>\n",
              "      <td>10.0</td>\n",
              "      <td>55.53</td>\n",
              "      <td>134</td>\n",
              "    </tr>\n",
              "  </tbody>\n",
              "</table>\n",
              "</div>"
            ],
            "text/plain": [
              "   size   time price\n",
              "0  10.7  47.65   144\n",
              "1  14.0  63.13   215\n",
              "2   9.0  58.76   105\n",
              "3   8.0  34.88    69\n",
              "4  10.0  55.53   134"
            ]
          },
          "execution_count": 11,
          "metadata": {},
          "output_type": "execute_result"
        }
      ],
      "source": [
        "df_columns.head() "
      ]
    },
    {
      "cell_type": "code",
      "execution_count": 12,
      "metadata": {
        "colab": {
          "base_uri": "https://localhost:8080/"
        },
        "id": "SAbEpuMKaj6W",
        "outputId": "9b8645c3-b153-4344-dc44-b727408f3f04"
      },
      "outputs": [
        {
          "data": {
            "text/plain": [
              "9.0     5\n",
              "13.0    3\n",
              "11.0    3\n",
              "10.0    3\n",
              "14.0    3\n",
              "6.0     3\n",
              "5.0     3\n",
              "12.4    3\n",
              "12.0    2\n",
              "5.5     2\n",
              "7.5     2\n",
              "11.1    2\n",
              "16.0    2\n",
              "8.0     2\n",
              "12.7    1\n",
              "17.8    1\n",
              "15.2    1\n",
              "8.8     1\n",
              "8.5     1\n",
              "14.5    1\n",
              "19.5    1\n",
              "21.0    1\n",
              "12.3    1\n",
              "11.7    1\n",
              "11.5    1\n",
              "10.7    1\n",
              "9.8     1\n",
              "13.5    1\n",
              "14.2    1\n",
              "7.0     1\n",
              "15.4    1\n",
              "5.4     1\n",
              "7.4     1\n",
              "10.4    1\n",
              "25.0    1\n",
              "6.5     1\n",
              "15.0    1\n",
              "10.5    1\n",
              "31.0    1\n",
              "Name: size, dtype: int64"
            ]
          },
          "execution_count": 12,
          "metadata": {},
          "output_type": "execute_result"
        }
      ],
      "source": [
        "df['brand'].value_counts()\n",
        "df['continent'].value_counts()\n",
        "df['size'].value_counts()"
      ]
    },
    {
      "cell_type": "code",
      "execution_count": 13,
      "metadata": {
        "colab": {
          "base_uri": "https://localhost:8080/",
          "height": 206
        },
        "id": "HHSw04MbavQ2",
        "outputId": "d6ff0b13-ed2f-48de-b6b7-1aac74cc19b9"
      },
      "outputs": [
        {
          "data": {
            "text/html": [
              "<div>\n",
              "<style scoped>\n",
              "    .dataframe tbody tr th:only-of-type {\n",
              "        vertical-align: middle;\n",
              "    }\n",
              "\n",
              "    .dataframe tbody tr th {\n",
              "        vertical-align: top;\n",
              "    }\n",
              "\n",
              "    .dataframe thead th {\n",
              "        text-align: right;\n",
              "    }\n",
              "</style>\n",
              "<table border=\"1\" class=\"dataframe\">\n",
              "  <thead>\n",
              "    <tr style=\"text-align: right;\">\n",
              "      <th></th>\n",
              "      <th>continent</th>\n",
              "      <th>brand</th>\n",
              "      <th>size</th>\n",
              "      <th>period</th>\n",
              "      <th>price</th>\n",
              "    </tr>\n",
              "  </thead>\n",
              "  <tbody>\n",
              "    <tr>\n",
              "      <th>0</th>\n",
              "      <td>2</td>\n",
              "      <td>2</td>\n",
              "      <td>10.7</td>\n",
              "      <td>47.65</td>\n",
              "      <td>144</td>\n",
              "    </tr>\n",
              "    <tr>\n",
              "      <th>1</th>\n",
              "      <td>2</td>\n",
              "      <td>3</td>\n",
              "      <td>14.0</td>\n",
              "      <td>63.13</td>\n",
              "      <td>215</td>\n",
              "    </tr>\n",
              "    <tr>\n",
              "      <th>2</th>\n",
              "      <td>2</td>\n",
              "      <td>2</td>\n",
              "      <td>9.0</td>\n",
              "      <td>58.76</td>\n",
              "      <td>105</td>\n",
              "    </tr>\n",
              "    <tr>\n",
              "      <th>3</th>\n",
              "      <td>1</td>\n",
              "      <td>1</td>\n",
              "      <td>8.0</td>\n",
              "      <td>34.88</td>\n",
              "      <td>69</td>\n",
              "    </tr>\n",
              "    <tr>\n",
              "      <th>4</th>\n",
              "      <td>2</td>\n",
              "      <td>2</td>\n",
              "      <td>10.0</td>\n",
              "      <td>55.53</td>\n",
              "      <td>134</td>\n",
              "    </tr>\n",
              "  </tbody>\n",
              "</table>\n",
              "</div>"
            ],
            "text/plain": [
              "   continent  brand  size  period price\n",
              "0          2      2  10.7   47.65   144\n",
              "1          2      3  14.0   63.13   215\n",
              "2          2      2   9.0   58.76   105\n",
              "3          1      1   8.0   34.88    69\n",
              "4          2      2  10.0   55.53   134"
            ]
          },
          "execution_count": 13,
          "metadata": {},
          "output_type": "execute_result"
        }
      ],
      "source": [
        "import pandas as pd\n",
        "df = pd.read_csv('./Data//EX_GrapeData.csv')\n",
        "df.head()"
      ]
    },
    {
      "cell_type": "code",
      "execution_count": 14,
      "metadata": {
        "colab": {
          "base_uri": "https://localhost:8080/"
        },
        "id": "9buUQ7NwbaPW",
        "outputId": "4912f5af-9ebd-4ce2-f968-3041320aa8c0"
      },
      "outputs": [
        {
          "data": {
            "text/plain": [
              "array([[2, 2, 10.7, 47.65, '144'],\n",
              "       [2, 3, 14.0, 63.13, '215'],\n",
              "       [2, 2, 9.0, 58.76, '105'],\n",
              "       [1, 1, 8.0, 34.88, '69'],\n",
              "       [2, 2, 10.0, 55.53, '134'],\n",
              "       [2, 2, 10.5, 43.14, '129'],\n",
              "       [2, 2, 16.0, 54.86, '155'],\n",
              "       [2, 1, 15.0, 44.14, '99'],\n",
              "       [2, 1, 6.5, 17.46, '38.5'],\n",
              "       [2, 1, 5.0, 21.04, '36.5'],\n",
              "       [2, 2, 25.0, 109.38, '260'],\n",
              "       [1, 1, 10.4, 17.67, '54'],\n",
              "       [1, 1, 7.4, 16.41, '39'],\n",
              "       [1, 1, 5.4, 12.02, '29.5'],\n",
              "       [2, 2, 15.4, 49.48, '109'],\n",
              "       [2, 1, 12.4, 48.74, '89.5'],\n",
              "       [1, 1, 6.0, 23.21, '42'],\n",
              "       [1, 1, 9.0, 28.64, '65'],\n",
              "       [1, 3, 9.0, 44.95, '115'],\n",
              "       [1, 1, 12.4, 23.77, '49.5'],\n",
              "       [1, 1, 7.5, 20.21, '36.5'],\n",
              "       [1, 3, 14.0, 32.62, '109'],\n",
              "       [1, 1, 7.0, 17.84, '45'],\n",
              "       [1, 2, 9.0, 22.82, '58'],\n",
              "       [1, 2, 12.0, 29.48, '89'],\n",
              "       [1, 1, 5.5, 15.61, '30'],\n",
              "       [1, 2, 6.0, 13.25, '31'],\n",
              "       [1, 3, 12.0, 45.78, '119'],\n",
              "       [2, 1, 5.5, 26.53, '22'],\n",
              "       [1, 3, 14.2, 37.11, '109'],\n",
              "       [2, 2, 11.0, 45.12, '99'],\n",
              "       [1, 2, 16.0, 26.09, '99'],\n",
              "       [2, 3, 13.5, 68.63, '179'],\n",
              "       [2, 2, 11.1, 33.71, '99'],\n",
              "       [2, 3, 9.8, 44.45, '89'],\n",
              "       [1, 2, 10.0, 23.74, '75'],\n",
              "       [2, 3, 13.0, 86.42, '199'],\n",
              "       [1, 3, 13.0, 39.71, '93'],\n",
              "       [1, 2, 11.7, 26.52, '65'],\n",
              "       [2, 2, 12.3, 33.89, '74'],\n",
              "       [2, 3, 19.5, 64.3, '165'],\n",
              "       [1, 3, 15.2, 22.55, '99'],\n",
              "       [1, 1, 10.0, 31.86, '43.5'],\n",
              "       [1, 3, 11.0, 53.18, '94'],\n",
              "       [2, 3, 17.8, 74.48, '189'],\n",
              "       [2, 2, 11.5, 34.16, '75'],\n",
              "       [2, 1, 12.7, 31.46, '59.5'],\n",
              "       [1, 1, 8.0, 21.34, '42'],\n",
              "       [2, 1, 7.5, 20.83, '23'],\n",
              "       [1, 2, 9.0, 20.59, '52.5'],\n",
              "       [2, 2, 14.0, 33.7, '99'],\n",
              "       [2, 2, 12.4, 32.9, '89'],\n",
              "       [2, 2, 8.8, 27.76, '65'],\n",
              "       [1, 1, 8.5, 30.2, '54.5'],\n",
              "       [1, 1, 6.0, 20.85, '24.5'],\n",
              "       [1, 2, 11.0, 26.25, '52'],\n",
              "       [1, 2, 11.1, 21.87, '62.5'],\n",
              "       [1, 3, 14.5, 23.88, '89'],\n",
              "       [1, 1, 5.0, 16.66, '21.5'],\n",
              "       [2, 1, 21.0, 43.0, ' '],\n",
              "       [2, 2, 5.0, 12.0, ' '],\n",
              "       [2, 3, 13.0, 20.0, ' '],\n",
              "       [2, 3, 31.0, 19.0, ' ']], dtype=object)"
            ]
          },
          "execution_count": 14,
          "metadata": {},
          "output_type": "execute_result"
        }
      ],
      "source": [
        "df_num = df.to_numpy()\n",
        "df_num"
      ]
    },
    {
      "cell_type": "code",
      "execution_count": 15,
      "metadata": {
        "colab": {
          "base_uri": "https://localhost:8080/",
          "height": 424
        },
        "id": "okSEYFQkbjhG",
        "outputId": "e098bf35-2995-46c9-9e31-750d9981d6cf"
      },
      "outputs": [
        {
          "data": {
            "text/html": [
              "<div>\n",
              "<style scoped>\n",
              "    .dataframe tbody tr th:only-of-type {\n",
              "        vertical-align: middle;\n",
              "    }\n",
              "\n",
              "    .dataframe tbody tr th {\n",
              "        vertical-align: top;\n",
              "    }\n",
              "\n",
              "    .dataframe thead th {\n",
              "        text-align: right;\n",
              "    }\n",
              "</style>\n",
              "<table border=\"1\" class=\"dataframe\">\n",
              "  <thead>\n",
              "    <tr style=\"text-align: right;\">\n",
              "      <th></th>\n",
              "      <th>0</th>\n",
              "      <th>1</th>\n",
              "      <th>2</th>\n",
              "      <th>3</th>\n",
              "      <th>4</th>\n",
              "    </tr>\n",
              "  </thead>\n",
              "  <tbody>\n",
              "    <tr>\n",
              "      <th>0</th>\n",
              "      <td>2</td>\n",
              "      <td>2</td>\n",
              "      <td>10.7</td>\n",
              "      <td>47.65</td>\n",
              "      <td>144</td>\n",
              "    </tr>\n",
              "    <tr>\n",
              "      <th>1</th>\n",
              "      <td>2</td>\n",
              "      <td>3</td>\n",
              "      <td>14.0</td>\n",
              "      <td>63.13</td>\n",
              "      <td>215</td>\n",
              "    </tr>\n",
              "    <tr>\n",
              "      <th>2</th>\n",
              "      <td>2</td>\n",
              "      <td>2</td>\n",
              "      <td>9.0</td>\n",
              "      <td>58.76</td>\n",
              "      <td>105</td>\n",
              "    </tr>\n",
              "    <tr>\n",
              "      <th>3</th>\n",
              "      <td>1</td>\n",
              "      <td>1</td>\n",
              "      <td>8.0</td>\n",
              "      <td>34.88</td>\n",
              "      <td>69</td>\n",
              "    </tr>\n",
              "    <tr>\n",
              "      <th>4</th>\n",
              "      <td>2</td>\n",
              "      <td>2</td>\n",
              "      <td>10.0</td>\n",
              "      <td>55.53</td>\n",
              "      <td>134</td>\n",
              "    </tr>\n",
              "    <tr>\n",
              "      <th>...</th>\n",
              "      <td>...</td>\n",
              "      <td>...</td>\n",
              "      <td>...</td>\n",
              "      <td>...</td>\n",
              "      <td>...</td>\n",
              "    </tr>\n",
              "    <tr>\n",
              "      <th>58</th>\n",
              "      <td>1</td>\n",
              "      <td>1</td>\n",
              "      <td>5.0</td>\n",
              "      <td>16.66</td>\n",
              "      <td>21.5</td>\n",
              "    </tr>\n",
              "    <tr>\n",
              "      <th>59</th>\n",
              "      <td>2</td>\n",
              "      <td>1</td>\n",
              "      <td>21.0</td>\n",
              "      <td>43.0</td>\n",
              "      <td></td>\n",
              "    </tr>\n",
              "    <tr>\n",
              "      <th>60</th>\n",
              "      <td>2</td>\n",
              "      <td>2</td>\n",
              "      <td>5.0</td>\n",
              "      <td>12.0</td>\n",
              "      <td></td>\n",
              "    </tr>\n",
              "    <tr>\n",
              "      <th>61</th>\n",
              "      <td>2</td>\n",
              "      <td>3</td>\n",
              "      <td>13.0</td>\n",
              "      <td>20.0</td>\n",
              "      <td></td>\n",
              "    </tr>\n",
              "    <tr>\n",
              "      <th>62</th>\n",
              "      <td>2</td>\n",
              "      <td>3</td>\n",
              "      <td>31.0</td>\n",
              "      <td>19.0</td>\n",
              "      <td></td>\n",
              "    </tr>\n",
              "  </tbody>\n",
              "</table>\n",
              "<p>63 rows × 5 columns</p>\n",
              "</div>"
            ],
            "text/plain": [
              "    0  1     2      3     4\n",
              "0   2  2  10.7  47.65   144\n",
              "1   2  3  14.0  63.13   215\n",
              "2   2  2   9.0  58.76   105\n",
              "3   1  1   8.0  34.88    69\n",
              "4   2  2  10.0  55.53   134\n",
              ".. .. ..   ...    ...   ...\n",
              "58  1  1   5.0  16.66  21.5\n",
              "59  2  1  21.0   43.0      \n",
              "60  2  2   5.0   12.0      \n",
              "61  2  3  13.0   20.0      \n",
              "62  2  3  31.0   19.0      \n",
              "\n",
              "[63 rows x 5 columns]"
            ]
          },
          "execution_count": 15,
          "metadata": {},
          "output_type": "execute_result"
        }
      ],
      "source": [
        "df_pd = pd.DataFrame(df_num)\n",
        "df_pd"
      ]
    },
    {
      "cell_type": "code",
      "execution_count": 16,
      "metadata": {
        "colab": {
          "base_uri": "https://localhost:8080/",
          "height": 424
        },
        "id": "tC4-98BAcDYl",
        "outputId": "c51db259-ef29-456a-e210-8b53af13154e"
      },
      "outputs": [
        {
          "data": {
            "text/html": [
              "<div>\n",
              "<style scoped>\n",
              "    .dataframe tbody tr th:only-of-type {\n",
              "        vertical-align: middle;\n",
              "    }\n",
              "\n",
              "    .dataframe tbody tr th {\n",
              "        vertical-align: top;\n",
              "    }\n",
              "\n",
              "    .dataframe thead th {\n",
              "        text-align: right;\n",
              "    }\n",
              "</style>\n",
              "<table border=\"1\" class=\"dataframe\">\n",
              "  <thead>\n",
              "    <tr style=\"text-align: right;\">\n",
              "      <th></th>\n",
              "      <th>salary</th>\n",
              "      <th>sales</th>\n",
              "      <th>roe</th>\n",
              "      <th>industry</th>\n",
              "    </tr>\n",
              "  </thead>\n",
              "  <tbody>\n",
              "    <tr>\n",
              "      <th>0</th>\n",
              "      <td>1095</td>\n",
              "      <td>27595.000000</td>\n",
              "      <td>14.1</td>\n",
              "      <td>1</td>\n",
              "    </tr>\n",
              "    <tr>\n",
              "      <th>1</th>\n",
              "      <td>1001</td>\n",
              "      <td>9958.000000</td>\n",
              "      <td>10.9</td>\n",
              "      <td>1</td>\n",
              "    </tr>\n",
              "    <tr>\n",
              "      <th>2</th>\n",
              "      <td>1122</td>\n",
              "      <td>6125.899902</td>\n",
              "      <td>23.5</td>\n",
              "      <td>1</td>\n",
              "    </tr>\n",
              "    <tr>\n",
              "      <th>3</th>\n",
              "      <td>578</td>\n",
              "      <td>16246.000000</td>\n",
              "      <td>5.9</td>\n",
              "      <td>1</td>\n",
              "    </tr>\n",
              "    <tr>\n",
              "      <th>4</th>\n",
              "      <td>1368</td>\n",
              "      <td>21783.199219</td>\n",
              "      <td>13.8</td>\n",
              "      <td>1</td>\n",
              "    </tr>\n",
              "    <tr>\n",
              "      <th>...</th>\n",
              "      <td>...</td>\n",
              "      <td>...</td>\n",
              "      <td>...</td>\n",
              "      <td>...</td>\n",
              "    </tr>\n",
              "    <tr>\n",
              "      <th>204</th>\n",
              "      <td>930</td>\n",
              "      <td>1509.099976</td>\n",
              "      <td>9.0</td>\n",
              "      <td>4</td>\n",
              "    </tr>\n",
              "    <tr>\n",
              "      <th>205</th>\n",
              "      <td>525</td>\n",
              "      <td>1097.099976</td>\n",
              "      <td>15.5</td>\n",
              "      <td>4</td>\n",
              "    </tr>\n",
              "    <tr>\n",
              "      <th>206</th>\n",
              "      <td>658</td>\n",
              "      <td>4542.600098</td>\n",
              "      <td>12.1</td>\n",
              "      <td>4</td>\n",
              "    </tr>\n",
              "    <tr>\n",
              "      <th>207</th>\n",
              "      <td>555</td>\n",
              "      <td>2023.000000</td>\n",
              "      <td>13.7</td>\n",
              "      <td>4</td>\n",
              "    </tr>\n",
              "    <tr>\n",
              "      <th>208</th>\n",
              "      <td>626</td>\n",
              "      <td>1442.500000</td>\n",
              "      <td>14.4</td>\n",
              "      <td>4</td>\n",
              "    </tr>\n",
              "  </tbody>\n",
              "</table>\n",
              "<p>209 rows × 4 columns</p>\n",
              "</div>"
            ],
            "text/plain": [
              "     salary         sales   roe  industry\n",
              "0      1095  27595.000000  14.1         1\n",
              "1      1001   9958.000000  10.9         1\n",
              "2      1122   6125.899902  23.5         1\n",
              "3       578  16246.000000   5.9         1\n",
              "4      1368  21783.199219  13.8         1\n",
              "..      ...           ...   ...       ...\n",
              "204     930   1509.099976   9.0         4\n",
              "205     525   1097.099976  15.5         4\n",
              "206     658   4542.600098  12.1         4\n",
              "207     555   2023.000000  13.7         4\n",
              "208     626   1442.500000  14.4         4\n",
              "\n",
              "[209 rows x 4 columns]"
            ]
          },
          "execution_count": 16,
          "metadata": {},
          "output_type": "execute_result"
        }
      ],
      "source": [
        "import pandas as pd\n",
        "data = pd.read_csv('./Data//Ex_CEOSalary.csv')\n",
        "data"
      ]
    },
    {
      "cell_type": "code",
      "execution_count": 17,
      "metadata": {
        "colab": {
          "base_uri": "https://localhost:8080/"
        },
        "id": "rNys32ZdnGgz",
        "outputId": "820b55ad-8405-4037-f8a7-b6af7a38726f"
      },
      "outputs": [
        {
          "data": {
            "text/plain": [
              "1    72\n",
              "3    60\n",
              "2    46\n",
              "4    31\n",
              "Name: industry, dtype: int64"
            ]
          },
          "execution_count": 17,
          "metadata": {},
          "output_type": "execute_result"
        }
      ],
      "source": [
        "data['industry'].value_counts()"
      ]
    },
    {
      "cell_type": "code",
      "execution_count": 18,
      "metadata": {
        "colab": {
          "base_uri": "https://localhost:8080/",
          "height": 35
        },
        "id": "XoaTZLBqputS",
        "outputId": "8a384e61-20a1-45a1-d95b-56cdbb61ac3f"
      },
      "outputs": [
        {
          "data": {
            "text/plain": [
              "\" data['industry'] = data['industry'].replace([1,2,3,4]),['Service','IT','Finance','Others']\\ndata['industry'].value_counts() \""
            ]
          },
          "execution_count": 18,
          "metadata": {},
          "output_type": "execute_result"
        }
      ],
      "source": [
        "''' data['industry'] = data['industry'].replace([1,2,3,4]),['Service','IT','Finance','Others']\n",
        "data['industry'].value_counts() '''"
      ]
    },
    {
      "cell_type": "code",
      "execution_count": 19,
      "metadata": {
        "colab": {
          "base_uri": "https://localhost:8080/"
        },
        "id": "pFXcgna8q095",
        "outputId": "7203c404-91b3-47ef-ed93-2542ff1a0757"
      },
      "outputs": [
        {
          "data": {
            "text/plain": [
              "salary      6.904577\n",
              "sales       5.035336\n",
              "roe         1.572126\n",
              "industry    0.221505\n",
              "dtype: float64"
            ]
          },
          "execution_count": 19,
          "metadata": {},
          "output_type": "execute_result"
        }
      ],
      "source": [
        "data.describe()\n",
        "data.skew()\n"
      ]
    },
    {
      "cell_type": "code",
      "execution_count": 20,
      "metadata": {
        "colab": {
          "base_uri": "https://localhost:8080/"
        },
        "id": "owTGLwCa0gGo",
        "outputId": "fffd3404-bf82-43f3-ac24-3a698e89fc9f"
      },
      "outputs": [
        {
          "data": {
            "text/plain": [
              "salary      58.971229\n",
              "sales       33.115193\n",
              "roe          3.797366\n",
              "industry    -1.289426\n",
              "dtype: float64"
            ]
          },
          "execution_count": 20,
          "metadata": {},
          "output_type": "execute_result"
        }
      ],
      "source": [
        "data.kurtosis()"
      ]
    },
    {
      "cell_type": "code",
      "execution_count": 21,
      "metadata": {
        "colab": {
          "base_uri": "https://localhost:8080/",
          "height": 1000
        },
        "id": "9A-yzZ-c0jzv",
        "outputId": "17b65fd2-e661-42bf-cd45-4c37c948a246"
      },
      "outputs": [
        {
          "data": {
            "text/plain": [
              "array([[<Axes: title={'center': 'salary'}>,\n",
              "        <Axes: title={'center': 'sales'}>],\n",
              "       [<Axes: title={'center': 'roe'}>,\n",
              "        <Axes: title={'center': 'industry'}>]], dtype=object)"
            ]
          },
          "execution_count": 21,
          "metadata": {},
          "output_type": "execute_result"
        },
        {
          "data": {
            "image/png": "[encoded data removed]",
            "text/plain": [
              "<Figure size 2000x1500 with 4 Axes>"
            ]
          },
          "metadata": {},
          "output_type": "display_data"
        }
      ],
      "source": [
        "import matplotlib.pyplot as plt\n",
        "data.hist(bins=50,figsize=(20,15))"
      ]
    },
    {
      "cell_type": "code",
      "execution_count": 22,
      "metadata": {
        "colab": {
          "base_uri": "https://localhost:8080/",
          "height": 1000
        },
        "id": "aPfVzpIn1cgv",
        "outputId": "26027d8f-d356-42ce-ea16-2d86e4eddc91"
      },
      "outputs": [
        {
          "data": {
            "text/plain": [
              "<Axes: >"
            ]
          },
          "execution_count": 22,
          "metadata": {},
          "output_type": "execute_result"
        },
        {
          "data": {
            "image/png": "[encoded data removed]",
            "text/plain": [
              "<Figure size 2000x1500 with 1 Axes>"
            ]
          },
          "metadata": {},
          "output_type": "display_data"
        }
      ],
      "source": [
        "data['salary'].hist(bins=50, figsize=(20,15))"
      ]
    },
    {
      "cell_type": "code",
      "execution_count": 23,
      "metadata": {
        "colab": {
          "base_uri": "https://localhost:8080/",
          "height": 175
        },
        "id": "x8MKUExq2WR_",
        "outputId": "ef0e1b62-e1ac-42d5-ab7c-cdc8158f921d"
      },
      "outputs": [
        {
          "data": {
            "text/html": [
              "<div>\n",
              "<style scoped>\n",
              "    .dataframe tbody tr th:only-of-type {\n",
              "        vertical-align: middle;\n",
              "    }\n",
              "\n",
              "    .dataframe tbody tr th {\n",
              "        vertical-align: top;\n",
              "    }\n",
              "\n",
              "    .dataframe thead th {\n",
              "        text-align: right;\n",
              "    }\n",
              "</style>\n",
              "<table border=\"1\" class=\"dataframe\">\n",
              "  <thead>\n",
              "    <tr style=\"text-align: right;\">\n",
              "      <th></th>\n",
              "      <th>salary</th>\n",
              "      <th>sales</th>\n",
              "      <th>roe</th>\n",
              "      <th>industry</th>\n",
              "    </tr>\n",
              "  </thead>\n",
              "  <tbody>\n",
              "    <tr>\n",
              "      <th>salary</th>\n",
              "      <td>1.000000</td>\n",
              "      <td>0.119869</td>\n",
              "      <td>0.114842</td>\n",
              "      <td>-0.015725</td>\n",
              "    </tr>\n",
              "    <tr>\n",
              "      <th>sales</th>\n",
              "      <td>0.119869</td>\n",
              "      <td>1.000000</td>\n",
              "      <td>-0.055386</td>\n",
              "      <td>-0.100284</td>\n",
              "    </tr>\n",
              "    <tr>\n",
              "      <th>roe</th>\n",
              "      <td>0.114842</td>\n",
              "      <td>-0.055386</td>\n",
              "      <td>1.000000</td>\n",
              "      <td>-0.011833</td>\n",
              "    </tr>\n",
              "    <tr>\n",
              "      <th>industry</th>\n",
              "      <td>-0.015725</td>\n",
              "      <td>-0.100284</td>\n",
              "      <td>-0.011833</td>\n",
              "      <td>1.000000</td>\n",
              "    </tr>\n",
              "  </tbody>\n",
              "</table>\n",
              "</div>"
            ],
            "text/plain": [
              "            salary     sales       roe  industry\n",
              "salary    1.000000  0.119869  0.114842 -0.015725\n",
              "sales     0.119869  1.000000 -0.055386 -0.100284\n",
              "roe       0.114842 -0.055386  1.000000 -0.011833\n",
              "industry -0.015725 -0.100284 -0.011833  1.000000"
            ]
          },
          "execution_count": 23,
          "metadata": {},
          "output_type": "execute_result"
        }
      ],
      "source": [
        "data.corr()"
      ]
    },
    {
      "cell_type": "code",
      "execution_count": 24,
      "metadata": {
        "colab": {
          "base_uri": "https://localhost:8080/",
          "height": 175
        },
        "id": "0Eh8gGl5TWVL",
        "outputId": "a6509bd4-1e77-43e7-e24d-c4342ed3f0f7"
      },
      "outputs": [
        {
          "data": {
            "text/html": [
              "<div>\n",
              "<style scoped>\n",
              "    .dataframe tbody tr th:only-of-type {\n",
              "        vertical-align: middle;\n",
              "    }\n",
              "\n",
              "    .dataframe tbody tr th {\n",
              "        vertical-align: top;\n",
              "    }\n",
              "\n",
              "    .dataframe thead th {\n",
              "        text-align: right;\n",
              "    }\n",
              "</style>\n",
              "<table border=\"1\" class=\"dataframe\">\n",
              "  <thead>\n",
              "    <tr style=\"text-align: right;\">\n",
              "      <th></th>\n",
              "      <th>salary</th>\n",
              "      <th>sales</th>\n",
              "      <th>roe</th>\n",
              "      <th>industry</th>\n",
              "    </tr>\n",
              "  </thead>\n",
              "  <tbody>\n",
              "    <tr>\n",
              "      <th>salary</th>\n",
              "      <td>1.000000</td>\n",
              "      <td>0.528016</td>\n",
              "      <td>0.205984</td>\n",
              "      <td>-0.203598</td>\n",
              "    </tr>\n",
              "    <tr>\n",
              "      <th>sales</th>\n",
              "      <td>0.528016</td>\n",
              "      <td>1.000000</td>\n",
              "      <td>-0.170548</td>\n",
              "      <td>-0.107410</td>\n",
              "    </tr>\n",
              "    <tr>\n",
              "      <th>roe</th>\n",
              "      <td>0.205984</td>\n",
              "      <td>-0.170548</td>\n",
              "      <td>1.000000</td>\n",
              "      <td>-0.080250</td>\n",
              "    </tr>\n",
              "    <tr>\n",
              "      <th>industry</th>\n",
              "      <td>-0.203598</td>\n",
              "      <td>-0.107410</td>\n",
              "      <td>-0.080250</td>\n",
              "      <td>1.000000</td>\n",
              "    </tr>\n",
              "  </tbody>\n",
              "</table>\n",
              "</div>"
            ],
            "text/plain": [
              "            salary     sales       roe  industry\n",
              "salary    1.000000  0.528016  0.205984 -0.203598\n",
              "sales     0.528016  1.000000 -0.170548 -0.107410\n",
              "roe       0.205984 -0.170548  1.000000 -0.080250\n",
              "industry -0.203598 -0.107410 -0.080250  1.000000"
            ]
          },
          "execution_count": 24,
          "metadata": {},
          "output_type": "execute_result"
        }
      ],
      "source": [
        "data.corr(method=\"spearman\")"
      ]
    },
    {
      "cell_type": "code",
      "execution_count": 25,
      "metadata": {
        "colab": {
          "base_uri": "https://localhost:8080/",
          "height": 175
        },
        "id": "OJuty1vJTxm1",
        "outputId": "da2bbf82-9545-47d5-afe3-9f81bbed80fd"
      },
      "outputs": [
        {
          "data": {
            "text/html": [
              "<div>\n",
              "<style scoped>\n",
              "    .dataframe tbody tr th:only-of-type {\n",
              "        vertical-align: middle;\n",
              "    }\n",
              "\n",
              "    .dataframe tbody tr th {\n",
              "        vertical-align: top;\n",
              "    }\n",
              "\n",
              "    .dataframe thead th {\n",
              "        text-align: right;\n",
              "    }\n",
              "</style>\n",
              "<table border=\"1\" class=\"dataframe\">\n",
              "  <thead>\n",
              "    <tr style=\"text-align: right;\">\n",
              "      <th></th>\n",
              "      <th>salary</th>\n",
              "      <th>sales</th>\n",
              "      <th>roe</th>\n",
              "      <th>industry</th>\n",
              "    </tr>\n",
              "  </thead>\n",
              "  <tbody>\n",
              "    <tr>\n",
              "      <th>salary</th>\n",
              "      <td>1.000000</td>\n",
              "      <td>0.363921</td>\n",
              "      <td>0.143672</td>\n",
              "      <td>-0.141304</td>\n",
              "    </tr>\n",
              "    <tr>\n",
              "      <th>sales</th>\n",
              "      <td>0.363921</td>\n",
              "      <td>1.000000</td>\n",
              "      <td>-0.123844</td>\n",
              "      <td>-0.080984</td>\n",
              "    </tr>\n",
              "    <tr>\n",
              "      <th>roe</th>\n",
              "      <td>0.143672</td>\n",
              "      <td>-0.123844</td>\n",
              "      <td>1.000000</td>\n",
              "      <td>-0.054290</td>\n",
              "    </tr>\n",
              "    <tr>\n",
              "      <th>industry</th>\n",
              "      <td>-0.141304</td>\n",
              "      <td>-0.080984</td>\n",
              "      <td>-0.054290</td>\n",
              "      <td>1.000000</td>\n",
              "    </tr>\n",
              "  </tbody>\n",
              "</table>\n",
              "</div>"
            ],
            "text/plain": [
              "            salary     sales       roe  industry\n",
              "salary    1.000000  0.363921  0.143672 -0.141304\n",
              "sales     0.363921  1.000000 -0.123844 -0.080984\n",
              "roe       0.143672 -0.123844  1.000000 -0.054290\n",
              "industry -0.141304 -0.080984 -0.054290  1.000000"
            ]
          },
          "execution_count": 25,
          "metadata": {},
          "output_type": "execute_result"
        }
      ],
      "source": [
        "data.corr(method=\"kendall\")"
      ]
    },
    {
      "cell_type": "code",
      "execution_count": 26,
      "metadata": {
        "colab": {
          "base_uri": "https://localhost:8080/",
          "height": 175
        },
        "id": "aIXOdk7MTuVL",
        "outputId": "9e06136d-541d-4602-c726-1715e21f4b86"
      },
      "outputs": [
        {
          "data": {
            "text/html": [
              "<div>\n",
              "<style scoped>\n",
              "    .dataframe tbody tr th:only-of-type {\n",
              "        vertical-align: middle;\n",
              "    }\n",
              "\n",
              "    .dataframe tbody tr th {\n",
              "        vertical-align: top;\n",
              "    }\n",
              "\n",
              "    .dataframe thead th {\n",
              "        text-align: right;\n",
              "    }\n",
              "</style>\n",
              "<table border=\"1\" class=\"dataframe\">\n",
              "  <thead>\n",
              "    <tr style=\"text-align: right;\">\n",
              "      <th></th>\n",
              "      <th>salary</th>\n",
              "      <th>sales</th>\n",
              "      <th>roe</th>\n",
              "      <th>industry</th>\n",
              "    </tr>\n",
              "  </thead>\n",
              "  <tbody>\n",
              "    <tr>\n",
              "      <th>salary</th>\n",
              "      <td>1.000000</td>\n",
              "      <td>0.119869</td>\n",
              "      <td>0.114842</td>\n",
              "      <td>-0.015725</td>\n",
              "    </tr>\n",
              "    <tr>\n",
              "      <th>sales</th>\n",
              "      <td>0.119869</td>\n",
              "      <td>1.000000</td>\n",
              "      <td>-0.055386</td>\n",
              "      <td>-0.100284</td>\n",
              "    </tr>\n",
              "    <tr>\n",
              "      <th>roe</th>\n",
              "      <td>0.114842</td>\n",
              "      <td>-0.055386</td>\n",
              "      <td>1.000000</td>\n",
              "      <td>-0.011833</td>\n",
              "    </tr>\n",
              "    <tr>\n",
              "      <th>industry</th>\n",
              "      <td>-0.015725</td>\n",
              "      <td>-0.100284</td>\n",
              "      <td>-0.011833</td>\n",
              "      <td>1.000000</td>\n",
              "    </tr>\n",
              "  </tbody>\n",
              "</table>\n",
              "</div>"
            ],
            "text/plain": [
              "            salary     sales       roe  industry\n",
              "salary    1.000000  0.119869  0.114842 -0.015725\n",
              "sales     0.119869  1.000000 -0.055386 -0.100284\n",
              "roe       0.114842 -0.055386  1.000000 -0.011833\n",
              "industry -0.015725 -0.100284 -0.011833  1.000000"
            ]
          },
          "execution_count": 26,
          "metadata": {},
          "output_type": "execute_result"
        }
      ],
      "source": [
        "data.corr(method=\"pearson\") #default"
      ]
    },
    {
      "cell_type": "code",
      "execution_count": 27,
      "metadata": {
        "colab": {
          "base_uri": "https://localhost:8080/",
          "height": 430
        },
        "id": "zarq35ghUQX0",
        "outputId": "575d2571-f927-41b0-8e5a-603d20753758"
      },
      "outputs": [
        {
          "data": {
            "image/png": "[encoded data removed]",
            "text/plain": [
              "<Figure size 640x480 with 1 Axes>"
            ]
          },
          "metadata": {},
          "output_type": "display_data"
        }
      ],
      "source": [
        "plt.scatter(data['roe'],data['salary'],alpha=0.5)\n",
        "plt.show()"
      ]
    },
    {
      "cell_type": "code",
      "execution_count": 28,
      "metadata": {
        "colab": {
          "base_uri": "https://localhost:8080/",
          "height": 238
        },
        "id": "5WlZNwyTUyZG",
        "outputId": "207d942d-d80c-439c-ca14-65e1f035a8a4"
      },
      "outputs": [
        {
          "data": {
            "text/html": [
              "<div>\n",
              "<style scoped>\n",
              "    .dataframe tbody tr th:only-of-type {\n",
              "        vertical-align: middle;\n",
              "    }\n",
              "\n",
              "    .dataframe tbody tr th {\n",
              "        vertical-align: top;\n",
              "    }\n",
              "\n",
              "    .dataframe thead tr th {\n",
              "        text-align: left;\n",
              "    }\n",
              "\n",
              "    .dataframe thead tr:last-of-type th {\n",
              "        text-align: right;\n",
              "    }\n",
              "</style>\n",
              "<table border=\"1\" class=\"dataframe\">\n",
              "  <thead>\n",
              "    <tr>\n",
              "      <th></th>\n",
              "      <th colspan=\"8\" halign=\"left\">salary</th>\n",
              "    </tr>\n",
              "    <tr>\n",
              "      <th></th>\n",
              "      <th>count</th>\n",
              "      <th>mean</th>\n",
              "      <th>std</th>\n",
              "      <th>min</th>\n",
              "      <th>25%</th>\n",
              "      <th>50%</th>\n",
              "      <th>75%</th>\n",
              "      <th>max</th>\n",
              "    </tr>\n",
              "    <tr>\n",
              "      <th>industry</th>\n",
              "      <th></th>\n",
              "      <th></th>\n",
              "      <th></th>\n",
              "      <th></th>\n",
              "      <th></th>\n",
              "      <th></th>\n",
              "      <th></th>\n",
              "      <th></th>\n",
              "    </tr>\n",
              "  </thead>\n",
              "  <tbody>\n",
              "    <tr>\n",
              "      <th>1</th>\n",
              "      <td>72.0</td>\n",
              "      <td>1153.875000</td>\n",
              "      <td>563.472032</td>\n",
              "      <td>256.0</td>\n",
              "      <td>811.25</td>\n",
              "      <td>1064.0</td>\n",
              "      <td>1348.50</td>\n",
              "      <td>3844.0</td>\n",
              "    </tr>\n",
              "    <tr>\n",
              "      <th>2</th>\n",
              "      <td>46.0</td>\n",
              "      <td>1344.913043</td>\n",
              "      <td>1002.813128</td>\n",
              "      <td>441.0</td>\n",
              "      <td>884.00</td>\n",
              "      <td>1119.5</td>\n",
              "      <td>1406.00</td>\n",
              "      <td>6640.0</td>\n",
              "    </tr>\n",
              "    <tr>\n",
              "      <th>3</th>\n",
              "      <td>60.0</td>\n",
              "      <td>1722.416667</td>\n",
              "      <td>2242.687041</td>\n",
              "      <td>223.0</td>\n",
              "      <td>911.00</td>\n",
              "      <td>1246.0</td>\n",
              "      <td>1643.75</td>\n",
              "      <td>14822.0</td>\n",
              "    </tr>\n",
              "    <tr>\n",
              "      <th>4</th>\n",
              "      <td>31.0</td>\n",
              "      <td>627.870968</td>\n",
              "      <td>175.264323</td>\n",
              "      <td>333.0</td>\n",
              "      <td>501.50</td>\n",
              "      <td>607.0</td>\n",
              "      <td>726.00</td>\n",
              "      <td>1100.0</td>\n",
              "    </tr>\n",
              "  </tbody>\n",
              "</table>\n",
              "</div>"
            ],
            "text/plain": [
              "         salary                                                            \\\n",
              "          count         mean          std    min     25%     50%      75%   \n",
              "industry                                                                    \n",
              "1          72.0  1153.875000   563.472032  256.0  811.25  1064.0  1348.50   \n",
              "2          46.0  1344.913043  1002.813128  441.0  884.00  1119.5  1406.00   \n",
              "3          60.0  1722.416667  2242.687041  223.0  911.00  1246.0  1643.75   \n",
              "4          31.0   627.870968   175.264323  333.0  501.50   607.0   726.00   \n",
              "\n",
              "                   \n",
              "              max  \n",
              "industry           \n",
              "1          3844.0  \n",
              "2          6640.0  \n",
              "3         14822.0  \n",
              "4          1100.0  "
            ]
          },
          "execution_count": 28,
          "metadata": {},
          "output_type": "execute_result"
        }
      ],
      "source": [
        "data.groupby('industry')[['salary']].describe()"
      ]
    },
    {
      "cell_type": "code",
      "execution_count": 29,
      "metadata": {
        "colab": {
          "base_uri": "https://localhost:8080/",
          "height": 448
        },
        "id": "_gz3K2u3Vsj0",
        "outputId": "2998129f-430b-4e7c-af05-9f259f7ded90"
      },
      "outputs": [
        {
          "data": {
            "text/plain": [
              "<Axes: >"
            ]
          },
          "execution_count": 29,
          "metadata": {},
          "output_type": "execute_result"
        },
        {
          "data": {
            "image/png": "[encoded data removed]",
            "text/plain": [
              "<Figure size 640x480 with 1 Axes>"
            ]
          },
          "metadata": {},
          "output_type": "display_data"
        }
      ],
      "source": [
        "data.boxplot(column='salary')"
      ]
    },
    {
      "cell_type": "code",
      "execution_count": 30,
      "metadata": {
        "colab": {
          "base_uri": "https://localhost:8080/",
          "height": 485
        },
        "id": "0zBrLMF5Zyov",
        "outputId": "0978c9bc-3a0b-4c29-9b8d-25b27be7d882"
      },
      "outputs": [
        {
          "data": {
            "text/plain": [
              "BP(ax=<Axes: >, lines={'whiskers': [<matplotlib.lines.Line2D object at 0x7fab60639f40>, <matplotlib.lines.Line2D object at 0x7fab9151d220>], 'caps': [<matplotlib.lines.Line2D object at 0x7fab9151d4c0>, <matplotlib.lines.Line2D object at 0x7fab9151d760>], 'boxes': [<matplotlib.lines.Line2D object at 0x7fab60639d30>], 'medians': [<matplotlib.lines.Line2D object at 0x7fab9151da00>], 'fliers': [<matplotlib.lines.Line2D object at 0x7fab9151dca0>], 'means': []})"
            ]
          },
          "execution_count": 30,
          "metadata": {},
          "output_type": "execute_result"
        },
        {
          "data": {
            "image/png": "[encoded data removed]",
            "text/plain": [
              "<Figure size 640x480 with 1 Axes>"
            ]
          },
          "metadata": {},
          "output_type": "display_data"
        }
      ],
      "source": [
        "data.boxplot(column='roe',return_type='both')"
      ]
    },
    {
      "cell_type": "code",
      "execution_count": 31,
      "metadata": {
        "colab": {
          "base_uri": "https://localhost:8080/"
        },
        "id": "CGR8G86dakoK",
        "outputId": "3614b1eb-51a6-41ac-f26c-eaa3e79563c3"
      },
      "outputs": [
        {
          "data": {
            "text/plain": [
              "671.0"
            ]
          },
          "execution_count": 31,
          "metadata": {},
          "output_type": "execute_result"
        }
      ],
      "source": [
        "Q1_salary = data['salary'].quantile(q=0.25)\n",
        "Q3_salary = data['salary'].quantile(q=0.75)\n",
        "IQR_salary = Q3_salary-Q1_salary\n",
        "IQR_salary"
      ]
    },
    {
      "cell_type": "code",
      "execution_count": 32,
      "metadata": {
        "colab": {
          "base_uri": "https://localhost:8080/",
          "height": 424
        },
        "id": "O36qucYUbkVy",
        "outputId": "165ad891-4be0-400b-85d9-cf6eaf84d4e3"
      },
      "outputs": [
        {
          "data": {
            "text/html": [
              "<div>\n",
              "<style scoped>\n",
              "    .dataframe tbody tr th:only-of-type {\n",
              "        vertical-align: middle;\n",
              "    }\n",
              "\n",
              "    .dataframe tbody tr th {\n",
              "        vertical-align: top;\n",
              "    }\n",
              "\n",
              "    .dataframe thead th {\n",
              "        text-align: right;\n",
              "    }\n",
              "</style>\n",
              "<table border=\"1\" class=\"dataframe\">\n",
              "  <thead>\n",
              "    <tr style=\"text-align: right;\">\n",
              "      <th></th>\n",
              "      <th>salary</th>\n",
              "      <th>sales</th>\n",
              "      <th>roe</th>\n",
              "      <th>industry</th>\n",
              "    </tr>\n",
              "  </thead>\n",
              "  <tbody>\n",
              "    <tr>\n",
              "      <th>0</th>\n",
              "      <td>1095</td>\n",
              "      <td>27595.000000</td>\n",
              "      <td>14.1</td>\n",
              "      <td>1</td>\n",
              "    </tr>\n",
              "    <tr>\n",
              "      <th>1</th>\n",
              "      <td>1001</td>\n",
              "      <td>9958.000000</td>\n",
              "      <td>10.9</td>\n",
              "      <td>1</td>\n",
              "    </tr>\n",
              "    <tr>\n",
              "      <th>2</th>\n",
              "      <td>1122</td>\n",
              "      <td>6125.899902</td>\n",
              "      <td>23.5</td>\n",
              "      <td>1</td>\n",
              "    </tr>\n",
              "    <tr>\n",
              "      <th>3</th>\n",
              "      <td>578</td>\n",
              "      <td>16246.000000</td>\n",
              "      <td>5.9</td>\n",
              "      <td>1</td>\n",
              "    </tr>\n",
              "    <tr>\n",
              "      <th>4</th>\n",
              "      <td>1368</td>\n",
              "      <td>21783.199219</td>\n",
              "      <td>13.8</td>\n",
              "      <td>1</td>\n",
              "    </tr>\n",
              "    <tr>\n",
              "      <th>...</th>\n",
              "      <td>...</td>\n",
              "      <td>...</td>\n",
              "      <td>...</td>\n",
              "      <td>...</td>\n",
              "    </tr>\n",
              "    <tr>\n",
              "      <th>204</th>\n",
              "      <td>930</td>\n",
              "      <td>1509.099976</td>\n",
              "      <td>9.0</td>\n",
              "      <td>4</td>\n",
              "    </tr>\n",
              "    <tr>\n",
              "      <th>205</th>\n",
              "      <td>525</td>\n",
              "      <td>1097.099976</td>\n",
              "      <td>15.5</td>\n",
              "      <td>4</td>\n",
              "    </tr>\n",
              "    <tr>\n",
              "      <th>206</th>\n",
              "      <td>658</td>\n",
              "      <td>4542.600098</td>\n",
              "      <td>12.1</td>\n",
              "      <td>4</td>\n",
              "    </tr>\n",
              "    <tr>\n",
              "      <th>207</th>\n",
              "      <td>555</td>\n",
              "      <td>2023.000000</td>\n",
              "      <td>13.7</td>\n",
              "      <td>4</td>\n",
              "    </tr>\n",
              "    <tr>\n",
              "      <th>208</th>\n",
              "      <td>626</td>\n",
              "      <td>1442.500000</td>\n",
              "      <td>14.4</td>\n",
              "      <td>4</td>\n",
              "    </tr>\n",
              "  </tbody>\n",
              "</table>\n",
              "<p>200 rows × 4 columns</p>\n",
              "</div>"
            ],
            "text/plain": [
              "     salary         sales   roe  industry\n",
              "0      1095  27595.000000  14.1         1\n",
              "1      1001   9958.000000  10.9         1\n",
              "2      1122   6125.899902  23.5         1\n",
              "3       578  16246.000000   5.9         1\n",
              "4      1368  21783.199219  13.8         1\n",
              "..      ...           ...   ...       ...\n",
              "204     930   1509.099976   9.0         4\n",
              "205     525   1097.099976  15.5         4\n",
              "206     658   4542.600098  12.1         4\n",
              "207     555   2023.000000  13.7         4\n",
              "208     626   1442.500000  14.4         4\n",
              "\n",
              "[200 rows x 4 columns]"
            ]
          },
          "execution_count": 32,
          "metadata": {},
          "output_type": "execute_result"
        }
      ],
      "source": [
        "data_IQR=data[(data['salary']<Q3_salary+IQR_salary*1.5)&(data['salary']>Q1_salary-IQR_salary*1.5)]\n",
        "data_IQR"
      ]
    },
    {
      "cell_type": "code",
      "execution_count": 33,
      "metadata": {
        "colab": {
          "base_uri": "https://localhost:8080/",
          "height": 1000
        },
        "id": "fAQmjYlmcHMC",
        "outputId": "76952b89-6aff-4912-b563-e8ac62fb3426"
      },
      "outputs": [
        {
          "data": {
            "text/plain": [
              "array([[<Axes: title={'center': 'salary'}>,\n",
              "        <Axes: title={'center': 'sales'}>],\n",
              "       [<Axes: title={'center': 'roe'}>,\n",
              "        <Axes: title={'center': 'industry'}>]], dtype=object)"
            ]
          },
          "execution_count": 33,
          "metadata": {},
          "output_type": "execute_result"
        },
        {
          "data": {
            "image/png": "[encoded data removed]",
            "text/plain": [
              "<Figure size 2000x1500 with 4 Axes>"
            ]
          },
          "metadata": {},
          "output_type": "display_data"
        }
      ],
      "source": [
        "data_IQR.hist(bins=50,figsize=(20,15))"
      ]
    },
    {
      "cell_type": "code",
      "execution_count": 34,
      "metadata": {
        "colab": {
          "base_uri": "https://localhost:8080/",
          "height": 175
        },
        "id": "Omkc50E4dupD",
        "outputId": "d90c9275-508e-4f62-a829-17d8f7267be8"
      },
      "outputs": [
        {
          "data": {
            "text/html": [
              "<div>\n",
              "<style scoped>\n",
              "    .dataframe tbody tr th:only-of-type {\n",
              "        vertical-align: middle;\n",
              "    }\n",
              "\n",
              "    .dataframe tbody tr th {\n",
              "        vertical-align: top;\n",
              "    }\n",
              "\n",
              "    .dataframe thead th {\n",
              "        text-align: right;\n",
              "    }\n",
              "</style>\n",
              "<table border=\"1\" class=\"dataframe\">\n",
              "  <thead>\n",
              "    <tr style=\"text-align: right;\">\n",
              "      <th></th>\n",
              "      <th>salary</th>\n",
              "      <th>sales</th>\n",
              "      <th>roe</th>\n",
              "      <th>industry</th>\n",
              "    </tr>\n",
              "  </thead>\n",
              "  <tbody>\n",
              "    <tr>\n",
              "      <th>salary</th>\n",
              "      <td>1.000000</td>\n",
              "      <td>0.335446</td>\n",
              "      <td>0.289704</td>\n",
              "      <td>-0.202648</td>\n",
              "    </tr>\n",
              "    <tr>\n",
              "      <th>sales</th>\n",
              "      <td>0.335446</td>\n",
              "      <td>1.000000</td>\n",
              "      <td>-0.065034</td>\n",
              "      <td>-0.069790</td>\n",
              "    </tr>\n",
              "    <tr>\n",
              "      <th>roe</th>\n",
              "      <td>0.289704</td>\n",
              "      <td>-0.065034</td>\n",
              "      <td>1.000000</td>\n",
              "      <td>-0.024423</td>\n",
              "    </tr>\n",
              "    <tr>\n",
              "      <th>industry</th>\n",
              "      <td>-0.202648</td>\n",
              "      <td>-0.069790</td>\n",
              "      <td>-0.024423</td>\n",
              "      <td>1.000000</td>\n",
              "    </tr>\n",
              "  </tbody>\n",
              "</table>\n",
              "</div>"
            ],
            "text/plain": [
              "            salary     sales       roe  industry\n",
              "salary    1.000000  0.335446  0.289704 -0.202648\n",
              "sales     0.335446  1.000000 -0.065034 -0.069790\n",
              "roe       0.289704 -0.065034  1.000000 -0.024423\n",
              "industry -0.202648 -0.069790 -0.024423  1.000000"
            ]
          },
          "execution_count": 34,
          "metadata": {},
          "output_type": "execute_result"
        }
      ],
      "source": [
        "data_IQR.corr()"
      ]
    },
    {
      "cell_type": "code",
      "execution_count": 35,
      "metadata": {
        "colab": {
          "base_uri": "https://localhost:8080/",
          "height": 433
        },
        "id": "i6rdNhpxfAyv",
        "outputId": "6fd646c3-5b22-4d38-9b04-fec59b1e2c82"
      },
      "outputs": [
        {
          "data": {
            "image/png": "[encoded data removed]",
            "text/plain": [
              "<Figure size 640x480 with 1 Axes>"
            ]
          },
          "metadata": {},
          "output_type": "display_data"
        }
      ],
      "source": [
        "plt.scatter(data_IQR['sales'],data_IQR['salary'],alpha=0.5)\n",
        "plt.show()"
      ]
    },
    {
      "cell_type": "code",
      "execution_count": 36,
      "metadata": {
        "colab": {
          "base_uri": "https://localhost:8080/",
          "height": 433
        },
        "id": "w-WHLuUVfluO",
        "outputId": "72e128f5-b02a-4773-d740-0b10b2115545"
      },
      "outputs": [
        {
          "data": {
            "image/png": "[encoded data removed]",
            "text/plain": [
              "<Figure size 640x480 with 1 Axes>"
            ]
          },
          "metadata": {},
          "output_type": "display_data"
        }
      ],
      "source": [
        "plt.scatter(data_IQR['roe'],data_IQR['salary'],alpha=0.5)\n",
        "plt.show()"
      ]
    },
    {
      "cell_type": "code",
      "execution_count": 37,
      "metadata": {
        "colab": {
          "base_uri": "https://localhost:8080/"
        },
        "id": "y4gslEAsgDZB",
        "outputId": "df0542be-2211-4839-85ea-504b0c6e7ae6"
      },
      "outputs": [
        {
          "name": "stdout",
          "output_type": "stream",
          "text": [
            "4966.6999511718695\n"
          ]
        },
        {
          "data": {
            "text/plain": [
              "7.6000003814697"
            ]
          },
          "execution_count": 37,
          "metadata": {},
          "output_type": "execute_result"
        }
      ],
      "source": [
        "Q1_sales = data['sales'].quantile(q=0.25)\n",
        "Q3_sales = data['sales'].quantile(q=0.75)\n",
        "IQR_sales = Q3_sales-Q1_sales\n",
        "print(IQR_sales)\n",
        "Q1_roe = data['roe'].quantile(q=0.25)\n",
        "Q3_roe = data['roe'].quantile(q=0.75)\n",
        "IQR_roe = Q3_roe-Q1_roe\n",
        "IQR_roe"
      ]
    },
    {
      "cell_type": "code",
      "execution_count": 38,
      "metadata": {
        "colab": {
          "base_uri": "https://localhost:8080/",
          "height": 424
        },
        "id": "w04alH5igdwx",
        "outputId": "cba37673-6c8f-4393-f533-a92f427ff8f5"
      },
      "outputs": [
        {
          "data": {
            "text/html": [
              "<div>\n",
              "<style scoped>\n",
              "    .dataframe tbody tr th:only-of-type {\n",
              "        vertical-align: middle;\n",
              "    }\n",
              "\n",
              "    .dataframe tbody tr th {\n",
              "        vertical-align: top;\n",
              "    }\n",
              "\n",
              "    .dataframe thead th {\n",
              "        text-align: right;\n",
              "    }\n",
              "</style>\n",
              "<table border=\"1\" class=\"dataframe\">\n",
              "  <thead>\n",
              "    <tr style=\"text-align: right;\">\n",
              "      <th></th>\n",
              "      <th>salary</th>\n",
              "      <th>sales</th>\n",
              "      <th>roe</th>\n",
              "      <th>industry</th>\n",
              "    </tr>\n",
              "  </thead>\n",
              "  <tbody>\n",
              "    <tr>\n",
              "      <th>0</th>\n",
              "      <td>1095</td>\n",
              "      <td>27595.000000</td>\n",
              "      <td>14.1</td>\n",
              "      <td>1</td>\n",
              "    </tr>\n",
              "    <tr>\n",
              "      <th>1</th>\n",
              "      <td>1001</td>\n",
              "      <td>9958.000000</td>\n",
              "      <td>10.9</td>\n",
              "      <td>1</td>\n",
              "    </tr>\n",
              "    <tr>\n",
              "      <th>2</th>\n",
              "      <td>1122</td>\n",
              "      <td>6125.899902</td>\n",
              "      <td>23.5</td>\n",
              "      <td>1</td>\n",
              "    </tr>\n",
              "    <tr>\n",
              "      <th>3</th>\n",
              "      <td>578</td>\n",
              "      <td>16246.000000</td>\n",
              "      <td>5.9</td>\n",
              "      <td>1</td>\n",
              "    </tr>\n",
              "    <tr>\n",
              "      <th>4</th>\n",
              "      <td>1368</td>\n",
              "      <td>21783.199219</td>\n",
              "      <td>13.8</td>\n",
              "      <td>1</td>\n",
              "    </tr>\n",
              "    <tr>\n",
              "      <th>...</th>\n",
              "      <td>...</td>\n",
              "      <td>...</td>\n",
              "      <td>...</td>\n",
              "      <td>...</td>\n",
              "    </tr>\n",
              "    <tr>\n",
              "      <th>204</th>\n",
              "      <td>930</td>\n",
              "      <td>1509.099976</td>\n",
              "      <td>9.0</td>\n",
              "      <td>4</td>\n",
              "    </tr>\n",
              "    <tr>\n",
              "      <th>205</th>\n",
              "      <td>525</td>\n",
              "      <td>1097.099976</td>\n",
              "      <td>15.5</td>\n",
              "      <td>4</td>\n",
              "    </tr>\n",
              "    <tr>\n",
              "      <th>206</th>\n",
              "      <td>658</td>\n",
              "      <td>4542.600098</td>\n",
              "      <td>12.1</td>\n",
              "      <td>4</td>\n",
              "    </tr>\n",
              "    <tr>\n",
              "      <th>207</th>\n",
              "      <td>555</td>\n",
              "      <td>2023.000000</td>\n",
              "      <td>13.7</td>\n",
              "      <td>4</td>\n",
              "    </tr>\n",
              "    <tr>\n",
              "      <th>208</th>\n",
              "      <td>626</td>\n",
              "      <td>1442.500000</td>\n",
              "      <td>14.4</td>\n",
              "      <td>4</td>\n",
              "    </tr>\n",
              "  </tbody>\n",
              "</table>\n",
              "<p>200 rows × 4 columns</p>\n",
              "</div>"
            ],
            "text/plain": [
              "     salary         sales   roe  industry\n",
              "0      1095  27595.000000  14.1         1\n",
              "1      1001   9958.000000  10.9         1\n",
              "2      1122   6125.899902  23.5         1\n",
              "3       578  16246.000000   5.9         1\n",
              "4      1368  21783.199219  13.8         1\n",
              "..      ...           ...   ...       ...\n",
              "204     930   1509.099976   9.0         4\n",
              "205     525   1097.099976  15.5         4\n",
              "206     658   4542.600098  12.1         4\n",
              "207     555   2023.000000  13.7         4\n",
              "208     626   1442.500000  14.4         4\n",
              "\n",
              "[200 rows x 4 columns]"
            ]
          },
          "execution_count": 38,
          "metadata": {},
          "output_type": "execute_result"
        }
      ],
      "source": [
        "Q1_sales = data['sales'].quantile(q=0.25)\n",
        "Q3_sales = data['sales'].quantile(q=0.75)\n",
        "IQR_sales = Q3_sales-Q1_sales\n",
        "IQR_salesdata_IQR=data[(data['salary']<Q3_salary+IQR_salary*1.5)&(data['salary']>Q1_salary-IQR_salary*1.5)&\n",
        "                       (data['sales']<Q3_sales+IQR_sales*1.5)&(data['sales']>Q1_sales-IQR_sales*1.5)&\n",
        "                       (data['roe']<Q3_roe+IQR_roe*1.5)&(data['roe']>Q1_roe-IQR_roe*1.5)]\n",
        "data_IQR"
      ]
    },
    {
      "cell_type": "code",
      "execution_count": 39,
      "metadata": {
        "colab": {
          "base_uri": "https://localhost:8080/",
          "height": 175
        },
        "id": "pXQ_of2mhFe5",
        "outputId": "0859186f-ed1e-4be0-dede-636602e26d81"
      },
      "outputs": [
        {
          "data": {
            "text/html": [
              "<div>\n",
              "<style scoped>\n",
              "    .dataframe tbody tr th:only-of-type {\n",
              "        vertical-align: middle;\n",
              "    }\n",
              "\n",
              "    .dataframe tbody tr th {\n",
              "        vertical-align: top;\n",
              "    }\n",
              "\n",
              "    .dataframe thead th {\n",
              "        text-align: right;\n",
              "    }\n",
              "</style>\n",
              "<table border=\"1\" class=\"dataframe\">\n",
              "  <thead>\n",
              "    <tr style=\"text-align: right;\">\n",
              "      <th></th>\n",
              "      <th>salary</th>\n",
              "      <th>sales</th>\n",
              "      <th>roe</th>\n",
              "      <th>industry</th>\n",
              "    </tr>\n",
              "  </thead>\n",
              "  <tbody>\n",
              "    <tr>\n",
              "      <th>salary</th>\n",
              "      <td>1.000000</td>\n",
              "      <td>0.335446</td>\n",
              "      <td>0.289704</td>\n",
              "      <td>-0.202648</td>\n",
              "    </tr>\n",
              "    <tr>\n",
              "      <th>sales</th>\n",
              "      <td>0.335446</td>\n",
              "      <td>1.000000</td>\n",
              "      <td>-0.065034</td>\n",
              "      <td>-0.069790</td>\n",
              "    </tr>\n",
              "    <tr>\n",
              "      <th>roe</th>\n",
              "      <td>0.289704</td>\n",
              "      <td>-0.065034</td>\n",
              "      <td>1.000000</td>\n",
              "      <td>-0.024423</td>\n",
              "    </tr>\n",
              "    <tr>\n",
              "      <th>industry</th>\n",
              "      <td>-0.202648</td>\n",
              "      <td>-0.069790</td>\n",
              "      <td>-0.024423</td>\n",
              "      <td>1.000000</td>\n",
              "    </tr>\n",
              "  </tbody>\n",
              "</table>\n",
              "</div>"
            ],
            "text/plain": [
              "            salary     sales       roe  industry\n",
              "salary    1.000000  0.335446  0.289704 -0.202648\n",
              "sales     0.335446  1.000000 -0.065034 -0.069790\n",
              "roe       0.289704 -0.065034  1.000000 -0.024423\n",
              "industry -0.202648 -0.069790 -0.024423  1.000000"
            ]
          },
          "execution_count": 39,
          "metadata": {},
          "output_type": "execute_result"
        }
      ],
      "source": [
        "data_IQR.corr()"
      ]
    },
    {
      "cell_type": "code",
      "execution_count": 40,
      "metadata": {
        "colab": {
          "base_uri": "https://localhost:8080/",
          "height": 1000
        },
        "id": "04e7Dfb7hIwY",
        "outputId": "c61428ee-5f58-4353-c681-24a45efe0ab2"
      },
      "outputs": [
        {
          "data": {
            "text/plain": [
              "array([[<Axes: title={'center': 'salary'}>,\n",
              "        <Axes: title={'center': 'sales'}>],\n",
              "       [<Axes: title={'center': 'roe'}>,\n",
              "        <Axes: title={'center': 'industry'}>]], dtype=object)"
            ]
          },
          "execution_count": 40,
          "metadata": {},
          "output_type": "execute_result"
        },
        {
          "data": {
            "image/png": "[encoded data removed]",
            "text/plain": [
              "<Figure size 2000x1500 with 4 Axes>"
            ]
          },
          "metadata": {},
          "output_type": "display_data"
        }
      ],
      "source": [
        "data_IQR.hist(bins=50,figsize=(20,15))"
      ]
    },
    {
      "cell_type": "code",
      "execution_count": 41,
      "metadata": {
        "colab": {
          "base_uri": "https://localhost:8080/",
          "height": 363
        },
        "id": "iVcs0oVWmjUg",
        "outputId": "b50c39a6-bdd2-4112-c120-42ffeef5cc6d"
      },
      "outputs": [
        {
          "data": {
            "text/html": [
              "<div>\n",
              "<style scoped>\n",
              "    .dataframe tbody tr th:only-of-type {\n",
              "        vertical-align: middle;\n",
              "    }\n",
              "\n",
              "    .dataframe tbody tr th {\n",
              "        vertical-align: top;\n",
              "    }\n",
              "\n",
              "    .dataframe thead th {\n",
              "        text-align: right;\n",
              "    }\n",
              "</style>\n",
              "<table border=\"1\" class=\"dataframe\">\n",
              "  <thead>\n",
              "    <tr style=\"text-align: right;\">\n",
              "      <th></th>\n",
              "      <th>salary</th>\n",
              "      <th>sales</th>\n",
              "      <th>roe</th>\n",
              "      <th>industry</th>\n",
              "    </tr>\n",
              "  </thead>\n",
              "  <tbody>\n",
              "    <tr>\n",
              "      <th>0</th>\n",
              "      <td>1095.0</td>\n",
              "      <td>27595.000000</td>\n",
              "      <td>14.100000</td>\n",
              "      <td>1</td>\n",
              "    </tr>\n",
              "    <tr>\n",
              "      <th>1</th>\n",
              "      <td>NaN</td>\n",
              "      <td>9958.000000</td>\n",
              "      <td>10.900000</td>\n",
              "      <td>1</td>\n",
              "    </tr>\n",
              "    <tr>\n",
              "      <th>2</th>\n",
              "      <td>NaN</td>\n",
              "      <td>6125.899902</td>\n",
              "      <td>23.500000</td>\n",
              "      <td>1</td>\n",
              "    </tr>\n",
              "    <tr>\n",
              "      <th>3</th>\n",
              "      <td>578.0</td>\n",
              "      <td>16246.000000</td>\n",
              "      <td>5.900000</td>\n",
              "      <td>1</td>\n",
              "    </tr>\n",
              "    <tr>\n",
              "      <th>4</th>\n",
              "      <td>1368.0</td>\n",
              "      <td>NaN</td>\n",
              "      <td>13.800000</td>\n",
              "      <td>1</td>\n",
              "    </tr>\n",
              "    <tr>\n",
              "      <th>5</th>\n",
              "      <td>1145.0</td>\n",
              "      <td>NaN</td>\n",
              "      <td>20.000000</td>\n",
              "      <td>2</td>\n",
              "    </tr>\n",
              "    <tr>\n",
              "      <th>6</th>\n",
              "      <td>1078.0</td>\n",
              "      <td>2266.699951</td>\n",
              "      <td>16.400000</td>\n",
              "      <td>2</td>\n",
              "    </tr>\n",
              "    <tr>\n",
              "      <th>7</th>\n",
              "      <td>1094.0</td>\n",
              "      <td>2966.800049</td>\n",
              "      <td>16.299999</td>\n",
              "      <td>2</td>\n",
              "    </tr>\n",
              "    <tr>\n",
              "      <th>8</th>\n",
              "      <td>1237.0</td>\n",
              "      <td>4570.200195</td>\n",
              "      <td>10.500000</td>\n",
              "      <td>2</td>\n",
              "    </tr>\n",
              "    <tr>\n",
              "      <th>9</th>\n",
              "      <td>833.0</td>\n",
              "      <td>2830.000000</td>\n",
              "      <td>NaN</td>\n",
              "      <td>2</td>\n",
              "    </tr>\n",
              "  </tbody>\n",
              "</table>\n",
              "</div>"
            ],
            "text/plain": [
              "   salary         sales        roe  industry\n",
              "0  1095.0  27595.000000  14.100000         1\n",
              "1     NaN   9958.000000  10.900000         1\n",
              "2     NaN   6125.899902  23.500000         1\n",
              "3   578.0  16246.000000   5.900000         1\n",
              "4  1368.0           NaN  13.800000         1\n",
              "5  1145.0           NaN  20.000000         2\n",
              "6  1078.0   2266.699951  16.400000         2\n",
              "7  1094.0   2966.800049  16.299999         2\n",
              "8  1237.0   4570.200195  10.500000         2\n",
              "9   833.0   2830.000000        NaN         2"
            ]
          },
          "execution_count": 41,
          "metadata": {},
          "output_type": "execute_result"
        }
      ],
      "source": [
        "#결측치 처리\n",
        "import pandas as pd\n",
        "data = pd.read_csv(\"./Data//Ex_Missing.csv\")\n",
        "data"
      ]
    },
    {
      "cell_type": "code",
      "execution_count": 42,
      "metadata": {
        "colab": {
          "base_uri": "https://localhost:8080/",
          "height": 363
        },
        "id": "p6_S_Xw8VIuk",
        "outputId": "64156804-5215-42bb-f5f0-557823faa60a"
      },
      "outputs": [
        {
          "data": {
            "text/html": [
              "<div>\n",
              "<style scoped>\n",
              "    .dataframe tbody tr th:only-of-type {\n",
              "        vertical-align: middle;\n",
              "    }\n",
              "\n",
              "    .dataframe tbody tr th {\n",
              "        vertical-align: top;\n",
              "    }\n",
              "\n",
              "    .dataframe thead th {\n",
              "        text-align: right;\n",
              "    }\n",
              "</style>\n",
              "<table border=\"1\" class=\"dataframe\">\n",
              "  <thead>\n",
              "    <tr style=\"text-align: right;\">\n",
              "      <th></th>\n",
              "      <th>salary</th>\n",
              "      <th>sales</th>\n",
              "      <th>roe</th>\n",
              "      <th>industry</th>\n",
              "    </tr>\n",
              "  </thead>\n",
              "  <tbody>\n",
              "    <tr>\n",
              "      <th>0</th>\n",
              "      <td>False</td>\n",
              "      <td>False</td>\n",
              "      <td>False</td>\n",
              "      <td>False</td>\n",
              "    </tr>\n",
              "    <tr>\n",
              "      <th>1</th>\n",
              "      <td>True</td>\n",
              "      <td>False</td>\n",
              "      <td>False</td>\n",
              "      <td>False</td>\n",
              "    </tr>\n",
              "    <tr>\n",
              "      <th>2</th>\n",
              "      <td>True</td>\n",
              "      <td>False</td>\n",
              "      <td>False</td>\n",
              "      <td>False</td>\n",
              "    </tr>\n",
              "    <tr>\n",
              "      <th>3</th>\n",
              "      <td>False</td>\n",
              "      <td>False</td>\n",
              "      <td>False</td>\n",
              "      <td>False</td>\n",
              "    </tr>\n",
              "    <tr>\n",
              "      <th>4</th>\n",
              "      <td>False</td>\n",
              "      <td>True</td>\n",
              "      <td>False</td>\n",
              "      <td>False</td>\n",
              "    </tr>\n",
              "    <tr>\n",
              "      <th>5</th>\n",
              "      <td>False</td>\n",
              "      <td>True</td>\n",
              "      <td>False</td>\n",
              "      <td>False</td>\n",
              "    </tr>\n",
              "    <tr>\n",
              "      <th>6</th>\n",
              "      <td>False</td>\n",
              "      <td>False</td>\n",
              "      <td>False</td>\n",
              "      <td>False</td>\n",
              "    </tr>\n",
              "    <tr>\n",
              "      <th>7</th>\n",
              "      <td>False</td>\n",
              "      <td>False</td>\n",
              "      <td>False</td>\n",
              "      <td>False</td>\n",
              "    </tr>\n",
              "    <tr>\n",
              "      <th>8</th>\n",
              "      <td>False</td>\n",
              "      <td>False</td>\n",
              "      <td>False</td>\n",
              "      <td>False</td>\n",
              "    </tr>\n",
              "    <tr>\n",
              "      <th>9</th>\n",
              "      <td>False</td>\n",
              "      <td>False</td>\n",
              "      <td>True</td>\n",
              "      <td>False</td>\n",
              "    </tr>\n",
              "  </tbody>\n",
              "</table>\n",
              "</div>"
            ],
            "text/plain": [
              "   salary  sales    roe  industry\n",
              "0   False  False  False     False\n",
              "1    True  False  False     False\n",
              "2    True  False  False     False\n",
              "3   False  False  False     False\n",
              "4   False   True  False     False\n",
              "5   False   True  False     False\n",
              "6   False  False  False     False\n",
              "7   False  False  False     False\n",
              "8   False  False  False     False\n",
              "9   False  False   True     False"
            ]
          },
          "execution_count": 42,
          "metadata": {},
          "output_type": "execute_result"
        }
      ],
      "source": [
        "pd.isnull(data)"
      ]
    },
    {
      "cell_type": "code",
      "execution_count": 43,
      "metadata": {
        "colab": {
          "base_uri": "https://localhost:8080/",
          "height": 363
        },
        "id": "Q9LWxcNnVOt7",
        "outputId": "ac5535d6-0c6a-4b37-e46c-d6f3f586244b"
      },
      "outputs": [
        {
          "data": {
            "text/html": [
              "<div>\n",
              "<style scoped>\n",
              "    .dataframe tbody tr th:only-of-type {\n",
              "        vertical-align: middle;\n",
              "    }\n",
              "\n",
              "    .dataframe tbody tr th {\n",
              "        vertical-align: top;\n",
              "    }\n",
              "\n",
              "    .dataframe thead th {\n",
              "        text-align: right;\n",
              "    }\n",
              "</style>\n",
              "<table border=\"1\" class=\"dataframe\">\n",
              "  <thead>\n",
              "    <tr style=\"text-align: right;\">\n",
              "      <th></th>\n",
              "      <th>salary</th>\n",
              "      <th>sales</th>\n",
              "      <th>roe</th>\n",
              "      <th>industry</th>\n",
              "    </tr>\n",
              "  </thead>\n",
              "  <tbody>\n",
              "    <tr>\n",
              "      <th>0</th>\n",
              "      <td>True</td>\n",
              "      <td>True</td>\n",
              "      <td>True</td>\n",
              "      <td>True</td>\n",
              "    </tr>\n",
              "    <tr>\n",
              "      <th>1</th>\n",
              "      <td>False</td>\n",
              "      <td>True</td>\n",
              "      <td>True</td>\n",
              "      <td>True</td>\n",
              "    </tr>\n",
              "    <tr>\n",
              "      <th>2</th>\n",
              "      <td>False</td>\n",
              "      <td>True</td>\n",
              "      <td>True</td>\n",
              "      <td>True</td>\n",
              "    </tr>\n",
              "    <tr>\n",
              "      <th>3</th>\n",
              "      <td>True</td>\n",
              "      <td>True</td>\n",
              "      <td>True</td>\n",
              "      <td>True</td>\n",
              "    </tr>\n",
              "    <tr>\n",
              "      <th>4</th>\n",
              "      <td>True</td>\n",
              "      <td>False</td>\n",
              "      <td>True</td>\n",
              "      <td>True</td>\n",
              "    </tr>\n",
              "    <tr>\n",
              "      <th>5</th>\n",
              "      <td>True</td>\n",
              "      <td>False</td>\n",
              "      <td>True</td>\n",
              "      <td>True</td>\n",
              "    </tr>\n",
              "    <tr>\n",
              "      <th>6</th>\n",
              "      <td>True</td>\n",
              "      <td>True</td>\n",
              "      <td>True</td>\n",
              "      <td>True</td>\n",
              "    </tr>\n",
              "    <tr>\n",
              "      <th>7</th>\n",
              "      <td>True</td>\n",
              "      <td>True</td>\n",
              "      <td>True</td>\n",
              "      <td>True</td>\n",
              "    </tr>\n",
              "    <tr>\n",
              "      <th>8</th>\n",
              "      <td>True</td>\n",
              "      <td>True</td>\n",
              "      <td>True</td>\n",
              "      <td>True</td>\n",
              "    </tr>\n",
              "    <tr>\n",
              "      <th>9</th>\n",
              "      <td>True</td>\n",
              "      <td>True</td>\n",
              "      <td>False</td>\n",
              "      <td>True</td>\n",
              "    </tr>\n",
              "  </tbody>\n",
              "</table>\n",
              "</div>"
            ],
            "text/plain": [
              "   salary  sales    roe  industry\n",
              "0    True   True   True      True\n",
              "1   False   True   True      True\n",
              "2   False   True   True      True\n",
              "3    True   True   True      True\n",
              "4    True  False   True      True\n",
              "5    True  False   True      True\n",
              "6    True   True   True      True\n",
              "7    True   True   True      True\n",
              "8    True   True   True      True\n",
              "9    True   True  False      True"
            ]
          },
          "execution_count": 43,
          "metadata": {},
          "output_type": "execute_result"
        }
      ],
      "source": [
        "pd.notnull(data)"
      ]
    },
    {
      "cell_type": "code",
      "execution_count": 44,
      "metadata": {
        "colab": {
          "base_uri": "https://localhost:8080/"
        },
        "id": "GmyGAKRZVouT",
        "outputId": "b29a4f9f-f635-475e-c429-62f4baab235e"
      },
      "outputs": [
        {
          "data": {
            "text/plain": [
              "salary      2\n",
              "sales       2\n",
              "roe         1\n",
              "industry    0\n",
              "dtype: int64"
            ]
          },
          "execution_count": 44,
          "metadata": {},
          "output_type": "execute_result"
        }
      ],
      "source": [
        "data.isnull().sum()"
      ]
    },
    {
      "cell_type": "code",
      "execution_count": 45,
      "metadata": {
        "colab": {
          "base_uri": "https://localhost:8080/"
        },
        "id": "uw5ZI1b5Z9hC",
        "outputId": "17c0f672-3c70-4698-eac3-80a0bad8f1f4"
      },
      "outputs": [
        {
          "data": {
            "text/plain": [
              "2"
            ]
          },
          "execution_count": 45,
          "metadata": {},
          "output_type": "execute_result"
        }
      ],
      "source": [
        "data['salary'].isnull().sum()"
      ]
    },
    {
      "cell_type": "code",
      "execution_count": 46,
      "metadata": {
        "colab": {
          "base_uri": "https://localhost:8080/",
          "height": 363
        },
        "id": "-FCNK6s8aCga",
        "outputId": "b67fd14b-283b-4f5c-fe8b-1bf067b95f43"
      },
      "outputs": [
        {
          "data": {
            "text/html": [
              "<div>\n",
              "<style scoped>\n",
              "    .dataframe tbody tr th:only-of-type {\n",
              "        vertical-align: middle;\n",
              "    }\n",
              "\n",
              "    .dataframe tbody tr th {\n",
              "        vertical-align: top;\n",
              "    }\n",
              "\n",
              "    .dataframe thead th {\n",
              "        text-align: right;\n",
              "    }\n",
              "</style>\n",
              "<table border=\"1\" class=\"dataframe\">\n",
              "  <thead>\n",
              "    <tr style=\"text-align: right;\">\n",
              "      <th></th>\n",
              "      <th>salary</th>\n",
              "      <th>sales</th>\n",
              "      <th>roe</th>\n",
              "      <th>industry</th>\n",
              "      <th>valid</th>\n",
              "    </tr>\n",
              "  </thead>\n",
              "  <tbody>\n",
              "    <tr>\n",
              "      <th>0</th>\n",
              "      <td>1095.0</td>\n",
              "      <td>27595.000000</td>\n",
              "      <td>14.100000</td>\n",
              "      <td>1</td>\n",
              "      <td>4</td>\n",
              "    </tr>\n",
              "    <tr>\n",
              "      <th>1</th>\n",
              "      <td>NaN</td>\n",
              "      <td>9958.000000</td>\n",
              "      <td>10.900000</td>\n",
              "      <td>1</td>\n",
              "      <td>3</td>\n",
              "    </tr>\n",
              "    <tr>\n",
              "      <th>2</th>\n",
              "      <td>NaN</td>\n",
              "      <td>6125.899902</td>\n",
              "      <td>23.500000</td>\n",
              "      <td>1</td>\n",
              "      <td>3</td>\n",
              "    </tr>\n",
              "    <tr>\n",
              "      <th>3</th>\n",
              "      <td>578.0</td>\n",
              "      <td>16246.000000</td>\n",
              "      <td>5.900000</td>\n",
              "      <td>1</td>\n",
              "      <td>4</td>\n",
              "    </tr>\n",
              "    <tr>\n",
              "      <th>4</th>\n",
              "      <td>1368.0</td>\n",
              "      <td>NaN</td>\n",
              "      <td>13.800000</td>\n",
              "      <td>1</td>\n",
              "      <td>3</td>\n",
              "    </tr>\n",
              "    <tr>\n",
              "      <th>5</th>\n",
              "      <td>1145.0</td>\n",
              "      <td>NaN</td>\n",
              "      <td>20.000000</td>\n",
              "      <td>2</td>\n",
              "      <td>3</td>\n",
              "    </tr>\n",
              "    <tr>\n",
              "      <th>6</th>\n",
              "      <td>1078.0</td>\n",
              "      <td>2266.699951</td>\n",
              "      <td>16.400000</td>\n",
              "      <td>2</td>\n",
              "      <td>4</td>\n",
              "    </tr>\n",
              "    <tr>\n",
              "      <th>7</th>\n",
              "      <td>1094.0</td>\n",
              "      <td>2966.800049</td>\n",
              "      <td>16.299999</td>\n",
              "      <td>2</td>\n",
              "      <td>4</td>\n",
              "    </tr>\n",
              "    <tr>\n",
              "      <th>8</th>\n",
              "      <td>1237.0</td>\n",
              "      <td>4570.200195</td>\n",
              "      <td>10.500000</td>\n",
              "      <td>2</td>\n",
              "      <td>4</td>\n",
              "    </tr>\n",
              "    <tr>\n",
              "      <th>9</th>\n",
              "      <td>833.0</td>\n",
              "      <td>2830.000000</td>\n",
              "      <td>NaN</td>\n",
              "      <td>2</td>\n",
              "      <td>3</td>\n",
              "    </tr>\n",
              "  </tbody>\n",
              "</table>\n",
              "</div>"
            ],
            "text/plain": [
              "   salary         sales        roe  industry  valid\n",
              "0  1095.0  27595.000000  14.100000         1      4\n",
              "1     NaN   9958.000000  10.900000         1      3\n",
              "2     NaN   6125.899902  23.500000         1      3\n",
              "3   578.0  16246.000000   5.900000         1      4\n",
              "4  1368.0           NaN  13.800000         1      3\n",
              "5  1145.0           NaN  20.000000         2      3\n",
              "6  1078.0   2266.699951  16.400000         2      4\n",
              "7  1094.0   2966.800049  16.299999         2      4\n",
              "8  1237.0   4570.200195  10.500000         2      4\n",
              "9   833.0   2830.000000        NaN         2      3"
            ]
          },
          "execution_count": 46,
          "metadata": {},
          "output_type": "execute_result"
        }
      ],
      "source": [
        "data['valid'] = data.notnull().sum(1)\n",
        "data"
      ]
    },
    {
      "cell_type": "code",
      "execution_count": 47,
      "metadata": {
        "colab": {
          "base_uri": "https://localhost:8080/",
          "height": 206
        },
        "id": "aKQj1RSPbo-Y",
        "outputId": "075e0870-bce3-4db7-f8eb-385c55ef74f4"
      },
      "outputs": [
        {
          "data": {
            "text/html": [
              "<div>\n",
              "<style scoped>\n",
              "    .dataframe tbody tr th:only-of-type {\n",
              "        vertical-align: middle;\n",
              "    }\n",
              "\n",
              "    .dataframe tbody tr th {\n",
              "        vertical-align: top;\n",
              "    }\n",
              "\n",
              "    .dataframe thead th {\n",
              "        text-align: right;\n",
              "    }\n",
              "</style>\n",
              "<table border=\"1\" class=\"dataframe\">\n",
              "  <thead>\n",
              "    <tr style=\"text-align: right;\">\n",
              "      <th></th>\n",
              "      <th>salary</th>\n",
              "      <th>sales</th>\n",
              "      <th>roe</th>\n",
              "      <th>industry</th>\n",
              "      <th>valid</th>\n",
              "    </tr>\n",
              "  </thead>\n",
              "  <tbody>\n",
              "    <tr>\n",
              "      <th>0</th>\n",
              "      <td>1095.0</td>\n",
              "      <td>27595.000000</td>\n",
              "      <td>14.100000</td>\n",
              "      <td>1</td>\n",
              "      <td>4</td>\n",
              "    </tr>\n",
              "    <tr>\n",
              "      <th>3</th>\n",
              "      <td>578.0</td>\n",
              "      <td>16246.000000</td>\n",
              "      <td>5.900000</td>\n",
              "      <td>1</td>\n",
              "      <td>4</td>\n",
              "    </tr>\n",
              "    <tr>\n",
              "      <th>6</th>\n",
              "      <td>1078.0</td>\n",
              "      <td>2266.699951</td>\n",
              "      <td>16.400000</td>\n",
              "      <td>2</td>\n",
              "      <td>4</td>\n",
              "    </tr>\n",
              "    <tr>\n",
              "      <th>7</th>\n",
              "      <td>1094.0</td>\n",
              "      <td>2966.800049</td>\n",
              "      <td>16.299999</td>\n",
              "      <td>2</td>\n",
              "      <td>4</td>\n",
              "    </tr>\n",
              "    <tr>\n",
              "      <th>8</th>\n",
              "      <td>1237.0</td>\n",
              "      <td>4570.200195</td>\n",
              "      <td>10.500000</td>\n",
              "      <td>2</td>\n",
              "      <td>4</td>\n",
              "    </tr>\n",
              "  </tbody>\n",
              "</table>\n",
              "</div>"
            ],
            "text/plain": [
              "   salary         sales        roe  industry  valid\n",
              "0  1095.0  27595.000000  14.100000         1      4\n",
              "3   578.0  16246.000000   5.900000         1      4\n",
              "6  1078.0   2266.699951  16.400000         2      4\n",
              "7  1094.0   2966.800049  16.299999         2      4\n",
              "8  1237.0   4570.200195  10.500000         2      4"
            ]
          },
          "execution_count": 47,
          "metadata": {},
          "output_type": "execute_result"
        }
      ],
      "source": [
        "data_del_row = data.dropna(axis=0)\n",
        "data_del_row"
      ]
    },
    {
      "cell_type": "code",
      "execution_count": 48,
      "metadata": {
        "colab": {
          "base_uri": "https://localhost:8080/",
          "height": 363
        },
        "id": "-H3haH6DcgTq",
        "outputId": "e8435ead-30cb-42e7-8d0e-870bb24836ac"
      },
      "outputs": [
        {
          "data": {
            "text/html": [
              "<div>\n",
              "<style scoped>\n",
              "    .dataframe tbody tr th:only-of-type {\n",
              "        vertical-align: middle;\n",
              "    }\n",
              "\n",
              "    .dataframe tbody tr th {\n",
              "        vertical-align: top;\n",
              "    }\n",
              "\n",
              "    .dataframe thead th {\n",
              "        text-align: right;\n",
              "    }\n",
              "</style>\n",
              "<table border=\"1\" class=\"dataframe\">\n",
              "  <thead>\n",
              "    <tr style=\"text-align: right;\">\n",
              "      <th></th>\n",
              "      <th>industry</th>\n",
              "      <th>valid</th>\n",
              "    </tr>\n",
              "  </thead>\n",
              "  <tbody>\n",
              "    <tr>\n",
              "      <th>0</th>\n",
              "      <td>1</td>\n",
              "      <td>4</td>\n",
              "    </tr>\n",
              "    <tr>\n",
              "      <th>1</th>\n",
              "      <td>1</td>\n",
              "      <td>3</td>\n",
              "    </tr>\n",
              "    <tr>\n",
              "      <th>2</th>\n",
              "      <td>1</td>\n",
              "      <td>3</td>\n",
              "    </tr>\n",
              "    <tr>\n",
              "      <th>3</th>\n",
              "      <td>1</td>\n",
              "      <td>4</td>\n",
              "    </tr>\n",
              "    <tr>\n",
              "      <th>4</th>\n",
              "      <td>1</td>\n",
              "      <td>3</td>\n",
              "    </tr>\n",
              "    <tr>\n",
              "      <th>5</th>\n",
              "      <td>2</td>\n",
              "      <td>3</td>\n",
              "    </tr>\n",
              "    <tr>\n",
              "      <th>6</th>\n",
              "      <td>2</td>\n",
              "      <td>4</td>\n",
              "    </tr>\n",
              "    <tr>\n",
              "      <th>7</th>\n",
              "      <td>2</td>\n",
              "      <td>4</td>\n",
              "    </tr>\n",
              "    <tr>\n",
              "      <th>8</th>\n",
              "      <td>2</td>\n",
              "      <td>4</td>\n",
              "    </tr>\n",
              "    <tr>\n",
              "      <th>9</th>\n",
              "      <td>2</td>\n",
              "      <td>3</td>\n",
              "    </tr>\n",
              "  </tbody>\n",
              "</table>\n",
              "</div>"
            ],
            "text/plain": [
              "   industry  valid\n",
              "0         1      4\n",
              "1         1      3\n",
              "2         1      3\n",
              "3         1      4\n",
              "4         1      3\n",
              "5         2      3\n",
              "6         2      4\n",
              "7         2      4\n",
              "8         2      4\n",
              "9         2      3"
            ]
          },
          "execution_count": 48,
          "metadata": {},
          "output_type": "execute_result"
        }
      ],
      "source": [
        "data_del_col = data.dropna(axis=1)\n",
        "data_del_col"
      ]
    },
    {
      "cell_type": "code",
      "execution_count": 49,
      "metadata": {
        "colab": {
          "base_uri": "https://localhost:8080/",
          "height": 300
        },
        "id": "FpumbjkkcqAK",
        "outputId": "369089f6-7be0-45ed-de8a-4e7d9d20bffb"
      },
      "outputs": [
        {
          "data": {
            "text/html": [
              "<div>\n",
              "<style scoped>\n",
              "    .dataframe tbody tr th:only-of-type {\n",
              "        vertical-align: middle;\n",
              "    }\n",
              "\n",
              "    .dataframe tbody tr th {\n",
              "        vertical-align: top;\n",
              "    }\n",
              "\n",
              "    .dataframe thead th {\n",
              "        text-align: right;\n",
              "    }\n",
              "</style>\n",
              "<table border=\"1\" class=\"dataframe\">\n",
              "  <thead>\n",
              "    <tr style=\"text-align: right;\">\n",
              "      <th></th>\n",
              "      <th>salary</th>\n",
              "    </tr>\n",
              "  </thead>\n",
              "  <tbody>\n",
              "    <tr>\n",
              "      <th>0</th>\n",
              "      <td>1095.0</td>\n",
              "    </tr>\n",
              "    <tr>\n",
              "      <th>3</th>\n",
              "      <td>578.0</td>\n",
              "    </tr>\n",
              "    <tr>\n",
              "      <th>4</th>\n",
              "      <td>1368.0</td>\n",
              "    </tr>\n",
              "    <tr>\n",
              "      <th>5</th>\n",
              "      <td>1145.0</td>\n",
              "    </tr>\n",
              "    <tr>\n",
              "      <th>6</th>\n",
              "      <td>1078.0</td>\n",
              "    </tr>\n",
              "    <tr>\n",
              "      <th>7</th>\n",
              "      <td>1094.0</td>\n",
              "    </tr>\n",
              "    <tr>\n",
              "      <th>8</th>\n",
              "      <td>1237.0</td>\n",
              "    </tr>\n",
              "    <tr>\n",
              "      <th>9</th>\n",
              "      <td>833.0</td>\n",
              "    </tr>\n",
              "  </tbody>\n",
              "</table>\n",
              "</div>"
            ],
            "text/plain": [
              "   salary\n",
              "0  1095.0\n",
              "3   578.0\n",
              "4  1368.0\n",
              "5  1145.0\n",
              "6  1078.0\n",
              "7  1094.0\n",
              "8  1237.0\n",
              "9   833.0"
            ]
          },
          "execution_count": 49,
          "metadata": {},
          "output_type": "execute_result"
        }
      ],
      "source": [
        "data[['salary']].dropna()"
      ]
    },
    {
      "cell_type": "code",
      "execution_count": 50,
      "metadata": {
        "colab": {
          "base_uri": "https://localhost:8080/",
          "height": 363
        },
        "id": "Ybb5HcdHdMay",
        "outputId": "dd90b829-873c-44b0-9be8-47006abcc436"
      },
      "outputs": [
        {
          "data": {
            "text/html": [
              "<div>\n",
              "<style scoped>\n",
              "    .dataframe tbody tr th:only-of-type {\n",
              "        vertical-align: middle;\n",
              "    }\n",
              "\n",
              "    .dataframe tbody tr th {\n",
              "        vertical-align: top;\n",
              "    }\n",
              "\n",
              "    .dataframe thead th {\n",
              "        text-align: right;\n",
              "    }\n",
              "</style>\n",
              "<table border=\"1\" class=\"dataframe\">\n",
              "  <thead>\n",
              "    <tr style=\"text-align: right;\">\n",
              "      <th></th>\n",
              "      <th>salary</th>\n",
              "      <th>sales</th>\n",
              "      <th>roe</th>\n",
              "      <th>industry</th>\n",
              "      <th>valid</th>\n",
              "    </tr>\n",
              "  </thead>\n",
              "  <tbody>\n",
              "    <tr>\n",
              "      <th>0</th>\n",
              "      <td>1095.0</td>\n",
              "      <td>27595.000000</td>\n",
              "      <td>14.100000</td>\n",
              "      <td>1</td>\n",
              "      <td>4</td>\n",
              "    </tr>\n",
              "    <tr>\n",
              "      <th>1</th>\n",
              "      <td>1095.0</td>\n",
              "      <td>9958.000000</td>\n",
              "      <td>10.900000</td>\n",
              "      <td>1</td>\n",
              "      <td>3</td>\n",
              "    </tr>\n",
              "    <tr>\n",
              "      <th>2</th>\n",
              "      <td>1095.0</td>\n",
              "      <td>6125.899902</td>\n",
              "      <td>23.500000</td>\n",
              "      <td>1</td>\n",
              "      <td>3</td>\n",
              "    </tr>\n",
              "    <tr>\n",
              "      <th>3</th>\n",
              "      <td>578.0</td>\n",
              "      <td>16246.000000</td>\n",
              "      <td>5.900000</td>\n",
              "      <td>1</td>\n",
              "      <td>4</td>\n",
              "    </tr>\n",
              "    <tr>\n",
              "      <th>4</th>\n",
              "      <td>1368.0</td>\n",
              "      <td>16246.000000</td>\n",
              "      <td>13.800000</td>\n",
              "      <td>1</td>\n",
              "      <td>3</td>\n",
              "    </tr>\n",
              "    <tr>\n",
              "      <th>5</th>\n",
              "      <td>1145.0</td>\n",
              "      <td>16246.000000</td>\n",
              "      <td>20.000000</td>\n",
              "      <td>2</td>\n",
              "      <td>3</td>\n",
              "    </tr>\n",
              "    <tr>\n",
              "      <th>6</th>\n",
              "      <td>1078.0</td>\n",
              "      <td>2266.699951</td>\n",
              "      <td>16.400000</td>\n",
              "      <td>2</td>\n",
              "      <td>4</td>\n",
              "    </tr>\n",
              "    <tr>\n",
              "      <th>7</th>\n",
              "      <td>1094.0</td>\n",
              "      <td>2966.800049</td>\n",
              "      <td>16.299999</td>\n",
              "      <td>2</td>\n",
              "      <td>4</td>\n",
              "    </tr>\n",
              "    <tr>\n",
              "      <th>8</th>\n",
              "      <td>1237.0</td>\n",
              "      <td>4570.200195</td>\n",
              "      <td>10.500000</td>\n",
              "      <td>2</td>\n",
              "      <td>4</td>\n",
              "    </tr>\n",
              "    <tr>\n",
              "      <th>9</th>\n",
              "      <td>833.0</td>\n",
              "      <td>2830.000000</td>\n",
              "      <td>10.500000</td>\n",
              "      <td>2</td>\n",
              "      <td>3</td>\n",
              "    </tr>\n",
              "  </tbody>\n",
              "</table>\n",
              "</div>"
            ],
            "text/plain": [
              "   salary         sales        roe  industry  valid\n",
              "0  1095.0  27595.000000  14.100000         1      4\n",
              "1  1095.0   9958.000000  10.900000         1      3\n",
              "2  1095.0   6125.899902  23.500000         1      3\n",
              "3   578.0  16246.000000   5.900000         1      4\n",
              "4  1368.0  16246.000000  13.800000         1      3\n",
              "5  1145.0  16246.000000  20.000000         2      3\n",
              "6  1078.0   2266.699951  16.400000         2      4\n",
              "7  1094.0   2966.800049  16.299999         2      4\n",
              "8  1237.0   4570.200195  10.500000         2      4\n",
              "9   833.0   2830.000000  10.500000         2      3"
            ]
          },
          "execution_count": 50,
          "metadata": {},
          "output_type": "execute_result"
        }
      ],
      "source": [
        "data_ffill = data.fillna(method='ffill')\n",
        "data_ffill"
      ]
    },
    {
      "cell_type": "code",
      "execution_count": 51,
      "metadata": {
        "colab": {
          "base_uri": "https://localhost:8080/",
          "height": 363
        },
        "id": "t9xCtcf3euJp",
        "outputId": "a2ec3487-7db0-4541-d94a-02eb8dae42b6"
      },
      "outputs": [
        {
          "data": {
            "text/html": [
              "<div>\n",
              "<style scoped>\n",
              "    .dataframe tbody tr th:only-of-type {\n",
              "        vertical-align: middle;\n",
              "    }\n",
              "\n",
              "    .dataframe tbody tr th {\n",
              "        vertical-align: top;\n",
              "    }\n",
              "\n",
              "    .dataframe thead th {\n",
              "        text-align: right;\n",
              "    }\n",
              "</style>\n",
              "<table border=\"1\" class=\"dataframe\">\n",
              "  <thead>\n",
              "    <tr style=\"text-align: right;\">\n",
              "      <th></th>\n",
              "      <th>salary</th>\n",
              "      <th>sales</th>\n",
              "      <th>roe</th>\n",
              "      <th>industry</th>\n",
              "      <th>valid</th>\n",
              "    </tr>\n",
              "  </thead>\n",
              "  <tbody>\n",
              "    <tr>\n",
              "      <th>0</th>\n",
              "      <td>1095.0</td>\n",
              "      <td>27595.000000</td>\n",
              "      <td>14.100000</td>\n",
              "      <td>1</td>\n",
              "      <td>4</td>\n",
              "    </tr>\n",
              "    <tr>\n",
              "      <th>1</th>\n",
              "      <td>578.0</td>\n",
              "      <td>9958.000000</td>\n",
              "      <td>10.900000</td>\n",
              "      <td>1</td>\n",
              "      <td>3</td>\n",
              "    </tr>\n",
              "    <tr>\n",
              "      <th>2</th>\n",
              "      <td>578.0</td>\n",
              "      <td>6125.899902</td>\n",
              "      <td>23.500000</td>\n",
              "      <td>1</td>\n",
              "      <td>3</td>\n",
              "    </tr>\n",
              "    <tr>\n",
              "      <th>3</th>\n",
              "      <td>578.0</td>\n",
              "      <td>16246.000000</td>\n",
              "      <td>5.900000</td>\n",
              "      <td>1</td>\n",
              "      <td>4</td>\n",
              "    </tr>\n",
              "    <tr>\n",
              "      <th>4</th>\n",
              "      <td>1368.0</td>\n",
              "      <td>2266.699951</td>\n",
              "      <td>13.800000</td>\n",
              "      <td>1</td>\n",
              "      <td>3</td>\n",
              "    </tr>\n",
              "    <tr>\n",
              "      <th>5</th>\n",
              "      <td>1145.0</td>\n",
              "      <td>2266.699951</td>\n",
              "      <td>20.000000</td>\n",
              "      <td>2</td>\n",
              "      <td>3</td>\n",
              "    </tr>\n",
              "    <tr>\n",
              "      <th>6</th>\n",
              "      <td>1078.0</td>\n",
              "      <td>2266.699951</td>\n",
              "      <td>16.400000</td>\n",
              "      <td>2</td>\n",
              "      <td>4</td>\n",
              "    </tr>\n",
              "    <tr>\n",
              "      <th>7</th>\n",
              "      <td>1094.0</td>\n",
              "      <td>2966.800049</td>\n",
              "      <td>16.299999</td>\n",
              "      <td>2</td>\n",
              "      <td>4</td>\n",
              "    </tr>\n",
              "    <tr>\n",
              "      <th>8</th>\n",
              "      <td>1237.0</td>\n",
              "      <td>4570.200195</td>\n",
              "      <td>10.500000</td>\n",
              "      <td>2</td>\n",
              "      <td>4</td>\n",
              "    </tr>\n",
              "    <tr>\n",
              "      <th>9</th>\n",
              "      <td>833.0</td>\n",
              "      <td>2830.000000</td>\n",
              "      <td>NaN</td>\n",
              "      <td>2</td>\n",
              "      <td>3</td>\n",
              "    </tr>\n",
              "  </tbody>\n",
              "</table>\n",
              "</div>"
            ],
            "text/plain": [
              "   salary         sales        roe  industry  valid\n",
              "0  1095.0  27595.000000  14.100000         1      4\n",
              "1   578.0   9958.000000  10.900000         1      3\n",
              "2   578.0   6125.899902  23.500000         1      3\n",
              "3   578.0  16246.000000   5.900000         1      4\n",
              "4  1368.0   2266.699951  13.800000         1      3\n",
              "5  1145.0   2266.699951  20.000000         2      3\n",
              "6  1078.0   2266.699951  16.400000         2      4\n",
              "7  1094.0   2966.800049  16.299999         2      4\n",
              "8  1237.0   4570.200195  10.500000         2      4\n",
              "9   833.0   2830.000000        NaN         2      3"
            ]
          },
          "execution_count": 51,
          "metadata": {},
          "output_type": "execute_result"
        }
      ],
      "source": [
        "data_bfill = data.fillna(method='bfill')\n",
        "data_bfill"
      ]
    },
    {
      "cell_type": "code",
      "execution_count": 52,
      "metadata": {
        "id": "pqlb1HSDfVRR"
      },
      "outputs": [
        {
          "data": {
            "text/html": [
              "<div>\n",
              "<style scoped>\n",
              "    .dataframe tbody tr th:only-of-type {\n",
              "        vertical-align: middle;\n",
              "    }\n",
              "\n",
              "    .dataframe tbody tr th {\n",
              "        vertical-align: top;\n",
              "    }\n",
              "\n",
              "    .dataframe thead th {\n",
              "        text-align: right;\n",
              "    }\n",
              "</style>\n",
              "<table border=\"1\" class=\"dataframe\">\n",
              "  <thead>\n",
              "    <tr style=\"text-align: right;\">\n",
              "      <th></th>\n",
              "      <th>salary</th>\n",
              "      <th>sales</th>\n",
              "      <th>roe</th>\n",
              "      <th>industry</th>\n",
              "      <th>valid</th>\n",
              "    </tr>\n",
              "  </thead>\n",
              "  <tbody>\n",
              "    <tr>\n",
              "      <th>0</th>\n",
              "      <td>1095.0</td>\n",
              "      <td>27595.000000</td>\n",
              "      <td>14.100000</td>\n",
              "      <td>1</td>\n",
              "      <td>4</td>\n",
              "    </tr>\n",
              "    <tr>\n",
              "      <th>1</th>\n",
              "      <td>1053.5</td>\n",
              "      <td>9958.000000</td>\n",
              "      <td>10.900000</td>\n",
              "      <td>1</td>\n",
              "      <td>3</td>\n",
              "    </tr>\n",
              "    <tr>\n",
              "      <th>2</th>\n",
              "      <td>1053.5</td>\n",
              "      <td>6125.899902</td>\n",
              "      <td>23.500000</td>\n",
              "      <td>1</td>\n",
              "      <td>3</td>\n",
              "    </tr>\n",
              "    <tr>\n",
              "      <th>3</th>\n",
              "      <td>578.0</td>\n",
              "      <td>16246.000000</td>\n",
              "      <td>5.900000</td>\n",
              "      <td>1</td>\n",
              "      <td>4</td>\n",
              "    </tr>\n",
              "    <tr>\n",
              "      <th>4</th>\n",
              "      <td>1368.0</td>\n",
              "      <td>9069.825012</td>\n",
              "      <td>13.800000</td>\n",
              "      <td>1</td>\n",
              "      <td>3</td>\n",
              "    </tr>\n",
              "    <tr>\n",
              "      <th>5</th>\n",
              "      <td>1145.0</td>\n",
              "      <td>9069.825012</td>\n",
              "      <td>20.000000</td>\n",
              "      <td>2</td>\n",
              "      <td>3</td>\n",
              "    </tr>\n",
              "    <tr>\n",
              "      <th>6</th>\n",
              "      <td>1078.0</td>\n",
              "      <td>2266.699951</td>\n",
              "      <td>16.400000</td>\n",
              "      <td>2</td>\n",
              "      <td>4</td>\n",
              "    </tr>\n",
              "    <tr>\n",
              "      <th>7</th>\n",
              "      <td>1094.0</td>\n",
              "      <td>2966.800049</td>\n",
              "      <td>16.299999</td>\n",
              "      <td>2</td>\n",
              "      <td>4</td>\n",
              "    </tr>\n",
              "    <tr>\n",
              "      <th>8</th>\n",
              "      <td>1237.0</td>\n",
              "      <td>4570.200195</td>\n",
              "      <td>10.500000</td>\n",
              "      <td>2</td>\n",
              "      <td>4</td>\n",
              "    </tr>\n",
              "    <tr>\n",
              "      <th>9</th>\n",
              "      <td>833.0</td>\n",
              "      <td>2830.000000</td>\n",
              "      <td>14.600000</td>\n",
              "      <td>2</td>\n",
              "      <td>3</td>\n",
              "    </tr>\n",
              "  </tbody>\n",
              "</table>\n",
              "</div>"
            ],
            "text/plain": [
              "   salary         sales        roe  industry  valid\n",
              "0  1095.0  27595.000000  14.100000         1      4\n",
              "1  1053.5   9958.000000  10.900000         1      3\n",
              "2  1053.5   6125.899902  23.500000         1      3\n",
              "3   578.0  16246.000000   5.900000         1      4\n",
              "4  1368.0   9069.825012  13.800000         1      3\n",
              "5  1145.0   9069.825012  20.000000         2      3\n",
              "6  1078.0   2266.699951  16.400000         2      4\n",
              "7  1094.0   2966.800049  16.299999         2      4\n",
              "8  1237.0   4570.200195  10.500000         2      4\n",
              "9   833.0   2830.000000  14.600000         2      3"
            ]
          },
          "execution_count": 52,
          "metadata": {},
          "output_type": "execute_result"
        }
      ],
      "source": [
        "data_mean = data.fillna(data.mean())\n",
        "data_mean"
      ]
    },
    {
      "cell_type": "code",
      "execution_count": 53,
      "metadata": {},
      "outputs": [
        {
          "data": {
            "text/html": [
              "<div>\n",
              "<style scoped>\n",
              "    .dataframe tbody tr th:only-of-type {\n",
              "        vertical-align: middle;\n",
              "    }\n",
              "\n",
              "    .dataframe tbody tr th {\n",
              "        vertical-align: top;\n",
              "    }\n",
              "\n",
              "    .dataframe thead th {\n",
              "        text-align: right;\n",
              "    }\n",
              "</style>\n",
              "<table border=\"1\" class=\"dataframe\">\n",
              "  <thead>\n",
              "    <tr style=\"text-align: right;\">\n",
              "      <th></th>\n",
              "      <th>salary</th>\n",
              "      <th>sales</th>\n",
              "      <th>roe</th>\n",
              "      <th>industry</th>\n",
              "      <th>valid</th>\n",
              "    </tr>\n",
              "  </thead>\n",
              "  <tbody>\n",
              "    <tr>\n",
              "      <th>0</th>\n",
              "      <td>1095.0</td>\n",
              "      <td>27595.000000</td>\n",
              "      <td>14.100000</td>\n",
              "      <td>1</td>\n",
              "      <td>4</td>\n",
              "    </tr>\n",
              "    <tr>\n",
              "      <th>1</th>\n",
              "      <td>1094.5</td>\n",
              "      <td>9958.000000</td>\n",
              "      <td>10.900000</td>\n",
              "      <td>1</td>\n",
              "      <td>3</td>\n",
              "    </tr>\n",
              "    <tr>\n",
              "      <th>2</th>\n",
              "      <td>1094.5</td>\n",
              "      <td>6125.899902</td>\n",
              "      <td>23.500000</td>\n",
              "      <td>1</td>\n",
              "      <td>3</td>\n",
              "    </tr>\n",
              "    <tr>\n",
              "      <th>3</th>\n",
              "      <td>578.0</td>\n",
              "      <td>16246.000000</td>\n",
              "      <td>5.900000</td>\n",
              "      <td>1</td>\n",
              "      <td>4</td>\n",
              "    </tr>\n",
              "    <tr>\n",
              "      <th>4</th>\n",
              "      <td>1368.0</td>\n",
              "      <td>5348.050049</td>\n",
              "      <td>13.800000</td>\n",
              "      <td>1</td>\n",
              "      <td>3</td>\n",
              "    </tr>\n",
              "    <tr>\n",
              "      <th>5</th>\n",
              "      <td>1145.0</td>\n",
              "      <td>5348.050049</td>\n",
              "      <td>20.000000</td>\n",
              "      <td>2</td>\n",
              "      <td>3</td>\n",
              "    </tr>\n",
              "    <tr>\n",
              "      <th>6</th>\n",
              "      <td>1078.0</td>\n",
              "      <td>2266.699951</td>\n",
              "      <td>16.400000</td>\n",
              "      <td>2</td>\n",
              "      <td>4</td>\n",
              "    </tr>\n",
              "    <tr>\n",
              "      <th>7</th>\n",
              "      <td>1094.0</td>\n",
              "      <td>2966.800049</td>\n",
              "      <td>16.299999</td>\n",
              "      <td>2</td>\n",
              "      <td>4</td>\n",
              "    </tr>\n",
              "    <tr>\n",
              "      <th>8</th>\n",
              "      <td>1237.0</td>\n",
              "      <td>4570.200195</td>\n",
              "      <td>10.500000</td>\n",
              "      <td>2</td>\n",
              "      <td>4</td>\n",
              "    </tr>\n",
              "    <tr>\n",
              "      <th>9</th>\n",
              "      <td>833.0</td>\n",
              "      <td>2830.000000</td>\n",
              "      <td>14.100000</td>\n",
              "      <td>2</td>\n",
              "      <td>3</td>\n",
              "    </tr>\n",
              "  </tbody>\n",
              "</table>\n",
              "</div>"
            ],
            "text/plain": [
              "   salary         sales        roe  industry  valid\n",
              "0  1095.0  27595.000000  14.100000         1      4\n",
              "1  1094.5   9958.000000  10.900000         1      3\n",
              "2  1094.5   6125.899902  23.500000         1      3\n",
              "3   578.0  16246.000000   5.900000         1      4\n",
              "4  1368.0   5348.050049  13.800000         1      3\n",
              "5  1145.0   5348.050049  20.000000         2      3\n",
              "6  1078.0   2266.699951  16.400000         2      4\n",
              "7  1094.0   2966.800049  16.299999         2      4\n",
              "8  1237.0   4570.200195  10.500000         2      4\n",
              "9   833.0   2830.000000  14.100000         2      3"
            ]
          },
          "execution_count": 53,
          "metadata": {},
          "output_type": "execute_result"
        }
      ],
      "source": [
        "data_median = data.fillna(data.median())\n",
        "data_median"
      ]
    },
    {
      "cell_type": "code",
      "execution_count": 54,
      "metadata": {},
      "outputs": [
        {
          "data": {
            "text/html": [
              "<div>\n",
              "<style scoped>\n",
              "    .dataframe tbody tr th:only-of-type {\n",
              "        vertical-align: middle;\n",
              "    }\n",
              "\n",
              "    .dataframe tbody tr th {\n",
              "        vertical-align: top;\n",
              "    }\n",
              "\n",
              "    .dataframe thead th {\n",
              "        text-align: right;\n",
              "    }\n",
              "</style>\n",
              "<table border=\"1\" class=\"dataframe\">\n",
              "  <thead>\n",
              "    <tr style=\"text-align: right;\">\n",
              "      <th></th>\n",
              "      <th>salary</th>\n",
              "      <th>sales</th>\n",
              "      <th>roe</th>\n",
              "      <th>industry</th>\n",
              "      <th>valid</th>\n",
              "    </tr>\n",
              "  </thead>\n",
              "  <tbody>\n",
              "    <tr>\n",
              "      <th>0</th>\n",
              "      <td>1095.0</td>\n",
              "      <td>27595.000000</td>\n",
              "      <td>14.100000</td>\n",
              "      <td>1</td>\n",
              "      <td>4</td>\n",
              "    </tr>\n",
              "    <tr>\n",
              "      <th>1</th>\n",
              "      <td>1368.0</td>\n",
              "      <td>9958.000000</td>\n",
              "      <td>10.900000</td>\n",
              "      <td>1</td>\n",
              "      <td>3</td>\n",
              "    </tr>\n",
              "    <tr>\n",
              "      <th>2</th>\n",
              "      <td>1368.0</td>\n",
              "      <td>6125.899902</td>\n",
              "      <td>23.500000</td>\n",
              "      <td>1</td>\n",
              "      <td>3</td>\n",
              "    </tr>\n",
              "    <tr>\n",
              "      <th>3</th>\n",
              "      <td>578.0</td>\n",
              "      <td>16246.000000</td>\n",
              "      <td>5.900000</td>\n",
              "      <td>1</td>\n",
              "      <td>4</td>\n",
              "    </tr>\n",
              "    <tr>\n",
              "      <th>4</th>\n",
              "      <td>1368.0</td>\n",
              "      <td>27595.000000</td>\n",
              "      <td>13.800000</td>\n",
              "      <td>1</td>\n",
              "      <td>3</td>\n",
              "    </tr>\n",
              "    <tr>\n",
              "      <th>5</th>\n",
              "      <td>1145.0</td>\n",
              "      <td>27595.000000</td>\n",
              "      <td>20.000000</td>\n",
              "      <td>2</td>\n",
              "      <td>3</td>\n",
              "    </tr>\n",
              "    <tr>\n",
              "      <th>6</th>\n",
              "      <td>1078.0</td>\n",
              "      <td>2266.699951</td>\n",
              "      <td>16.400000</td>\n",
              "      <td>2</td>\n",
              "      <td>4</td>\n",
              "    </tr>\n",
              "    <tr>\n",
              "      <th>7</th>\n",
              "      <td>1094.0</td>\n",
              "      <td>2966.800049</td>\n",
              "      <td>16.299999</td>\n",
              "      <td>2</td>\n",
              "      <td>4</td>\n",
              "    </tr>\n",
              "    <tr>\n",
              "      <th>8</th>\n",
              "      <td>1237.0</td>\n",
              "      <td>4570.200195</td>\n",
              "      <td>10.500000</td>\n",
              "      <td>2</td>\n",
              "      <td>4</td>\n",
              "    </tr>\n",
              "    <tr>\n",
              "      <th>9</th>\n",
              "      <td>833.0</td>\n",
              "      <td>2830.000000</td>\n",
              "      <td>23.500000</td>\n",
              "      <td>2</td>\n",
              "      <td>3</td>\n",
              "    </tr>\n",
              "  </tbody>\n",
              "</table>\n",
              "</div>"
            ],
            "text/plain": [
              "   salary         sales        roe  industry  valid\n",
              "0  1095.0  27595.000000  14.100000         1      4\n",
              "1  1368.0   9958.000000  10.900000         1      3\n",
              "2  1368.0   6125.899902  23.500000         1      3\n",
              "3   578.0  16246.000000   5.900000         1      4\n",
              "4  1368.0  27595.000000  13.800000         1      3\n",
              "5  1145.0  27595.000000  20.000000         2      3\n",
              "6  1078.0   2266.699951  16.400000         2      4\n",
              "7  1094.0   2966.800049  16.299999         2      4\n",
              "8  1237.0   4570.200195  10.500000         2      4\n",
              "9   833.0   2830.000000  23.500000         2      3"
            ]
          },
          "execution_count": 54,
          "metadata": {},
          "output_type": "execute_result"
        }
      ],
      "source": [
        "data_max = data.fillna(data.max())\n",
        "data_max"
      ]
    },
    {
      "cell_type": "code",
      "execution_count": 70,
      "metadata": {},
      "outputs": [
        {
          "data": {
            "text/html": [
              "<div>\n",
              "<style scoped>\n",
              "    .dataframe tbody tr th:only-of-type {\n",
              "        vertical-align: middle;\n",
              "    }\n",
              "\n",
              "    .dataframe tbody tr th {\n",
              "        vertical-align: top;\n",
              "    }\n",
              "\n",
              "    .dataframe thead th {\n",
              "        text-align: right;\n",
              "    }\n",
              "</style>\n",
              "<table border=\"1\" class=\"dataframe\">\n",
              "  <thead>\n",
              "    <tr style=\"text-align: right;\">\n",
              "      <th></th>\n",
              "      <th>salary</th>\n",
              "      <th>sales</th>\n",
              "      <th>roe</th>\n",
              "      <th>valid</th>\n",
              "    </tr>\n",
              "    <tr>\n",
              "      <th>industry</th>\n",
              "      <th></th>\n",
              "      <th></th>\n",
              "      <th></th>\n",
              "      <th></th>\n",
              "    </tr>\n",
              "  </thead>\n",
              "  <tbody>\n",
              "    <tr>\n",
              "      <th>1</th>\n",
              "      <td>1013.666667</td>\n",
              "      <td>14981.224976</td>\n",
              "      <td>13.64</td>\n",
              "      <td>3.4</td>\n",
              "    </tr>\n",
              "    <tr>\n",
              "      <th>2</th>\n",
              "      <td>1077.400000</td>\n",
              "      <td>3158.425049</td>\n",
              "      <td>15.80</td>\n",
              "      <td>3.6</td>\n",
              "    </tr>\n",
              "  </tbody>\n",
              "</table>\n",
              "</div>"
            ],
            "text/plain": [
              "               salary         sales    roe  valid\n",
              "industry                                         \n",
              "1         1013.666667  14981.224976  13.64    3.4\n",
              "2         1077.400000   3158.425049  15.80    3.6"
            ]
          },
          "execution_count": 70,
          "metadata": {},
          "output_type": "execute_result"
        }
      ],
      "source": [
        "data_industry = data.groupby('industry').mean()\n",
        "data_industry"
      ]
    }
  ],
  "metadata": {
    "colab": {
      "provenance": []
    },
    "kernelspec": {
      "display_name": "Python 3",
      "name": "python3"
    },
    "language_info": {
      "codemirror_mode": {
        "name": "ipython",
        "version": 3
      },
      "file_extension": ".py",
      "mimetype": "text/x-python",
      "name": "python",
      "nbconvert_exporter": "python",
      "pygments_lexer": "ipython3",
      "version": "3.9.16"
    }
  },
  "nbformat": 4,
  "nbformat_minor": 0
}
